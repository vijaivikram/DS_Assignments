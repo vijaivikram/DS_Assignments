{
 "cells": [
  {
   "cell_type": "markdown",
   "id": "bf2e11f6",
   "metadata": {},
   "source": [
    "10th June - Python (Functions Assignment) - 1"
   ]
  },
  {
   "cell_type": "markdown",
   "id": "cc082361",
   "metadata": {},
   "source": [
    "1. In Python, what is the difference between a built-in function and a\n",
    "user-defined function? Provide an example of each.\n",
    "\n",
    "* Answer: Built-in functions are the functions that are already defined in\n",
    "Python. Whereas user-defined functions are the functions that are\n",
    "defined by the user for their own use case that’s not available in the\n",
    "built-in functions.\n",
    "\n",
    "* Example of built-in function: 'print()'"
   ]
  },
  {
   "cell_type": "code",
   "execution_count": 1,
   "id": "262c1301",
   "metadata": {},
   "outputs": [],
   "source": [
    "#Example of user defined function\n",
    "def addition(a, b): \n",
    "    return a + b"
   ]
  },
  {
   "cell_type": "markdown",
   "id": "d38c50c2",
   "metadata": {},
   "source": [
    "2. How can you pass arguments to a function in Python? Explain the\n",
    "difference between positional arguments and keyword arguments.\n",
    "\n",
    "* Answer: Arguments can be passed to a function in Python by using the\n",
    "function name followed by the arguments enclosed in parentheses.\n",
    "* Positional arguments are the arguments that are passed to a function\n",
    "    in the order they are defined in the function definition.\n",
    "* Keyword arguments are the arguments that are passed with the\n",
    "    argument name equal to the argument value."
   ]
  },
  {
   "cell_type": "code",
   "execution_count": 2,
   "id": "b64edc6d",
   "metadata": {},
   "outputs": [
    {
     "data": {
      "text/plain": [
       "30"
      ]
     },
     "execution_count": 2,
     "metadata": {},
     "output_type": "execute_result"
    }
   ],
   "source": [
    "def add(a, b): #Example of positional arguments:\n",
    "    return a + b\n",
    "\n",
    "add(15, 15)"
   ]
  },
  {
   "cell_type": "code",
   "execution_count": 3,
   "id": "f904459f",
   "metadata": {},
   "outputs": [
    {
     "data": {
      "text/plain": [
       "33"
      ]
     },
     "execution_count": 3,
     "metadata": {},
     "output_type": "execute_result"
    }
   ],
   "source": [
    "def add(a, b):\n",
    "    return a + b\n",
    "\n",
    "add(a=11, b=22)#Example of keyword arguments:"
   ]
  },
  {
   "cell_type": "markdown",
   "id": "cfe98e06",
   "metadata": {},
   "source": [
    "3. What is the purpose of the return statement in a function? Can a function have multiple return statements? Explain with an example.\n",
    "\n",
    "* Answer: The purpose of the return statement in a function is to return a\n",
    "value from the function, means it will not print, just return the value\n",
    "so that we can use anywhere in our code. A function can have multiple\n",
    "return statements. For example, if we want to return a value based on\n",
    "some condition, we can use multiple return statements.\n",
    "\n",
    "\n",
    "\n"
   ]
  },
  {
   "cell_type": "code",
   "execution_count": 4,
   "id": "da5cf47d",
   "metadata": {},
   "outputs": [
    {
     "data": {
      "text/plain": [
       "10"
      ]
     },
     "execution_count": 4,
     "metadata": {},
     "output_type": "execute_result"
    }
   ],
   "source": [
    "def addition(a, b): #Example of a function with multiple return statements\n",
    "    if a == 0:\n",
    "        return b\n",
    "    elif b == 0:\n",
    "        return a\n",
    "    else:\n",
    "        return a + b\n",
    "\n",
    "add(10, 20)\n",
    "add(0, 25)\n",
    "add(10, 0)"
   ]
  },
  {
   "cell_type": "markdown",
   "id": "21ea359c",
   "metadata": {},
   "source": [
    "4. What are lambda functions in Python? How are they different from\n",
    "    regular functions? Provide an example where a lambda function can be\n",
    "    useful.\n",
    "\n",
    "* Answer: \n",
    "* Lambda functions are anonymous functions that are defined\n",
    "without a name. They are different from regular functions in\n",
    "the following ways:\n",
    "\n",
    "* Lambda functions are defined without a name whereas regular\n",
    "    functions are defined with a name.\n",
    "* Lambda functions can have only one expression whereas regular\n",
    "    functions can have multiple expressions.\n",
    "* Lambda functions can have only one line of code whereas regular\n",
    "    functions can have multiple lines of code."
   ]
  },
  {
   "cell_type": "code",
   "execution_count": 5,
   "id": "e8a5439e",
   "metadata": {},
   "outputs": [
    {
     "data": {
      "text/plain": [
       "3"
      ]
     },
     "execution_count": 5,
     "metadata": {},
     "output_type": "execute_result"
    }
   ],
   "source": [
    "# Example of a lambda function:\n",
    "add = lambda a, b: a + b\n",
    "add(1, 2)"
   ]
  },
  {
   "cell_type": "markdown",
   "id": "85ca2cd9",
   "metadata": {},
   "source": [
    "5. How does the concept of “scope” apply to functions in Python?\n",
    "Explain the difference between local scope and global scope.\n",
    "\n",
    "* Answer: The concept of “scope” applies to functions in Python in the\n",
    "following ways:\n",
    "\n",
    "* Variables defined inside a function have local scope. These\n",
    "    variables can be accessed only inside the function.\n",
    "* Variables defined outside a function have global scope. These\n",
    "    variables can be accessed inside the function.\n",
    "\n"
   ]
  },
  {
   "cell_type": "code",
   "execution_count": 6,
   "id": "c8dbe665",
   "metadata": {},
   "outputs": [
    {
     "ename": "NameError",
     "evalue": "name 'c' is not defined",
     "output_type": "error",
     "traceback": [
      "\u001b[1;31m---------------------------------------------------------------------------\u001b[0m",
      "\u001b[1;31mNameError\u001b[0m                                 Traceback (most recent call last)",
      "Cell \u001b[1;32mIn[6], line 8\u001b[0m\n\u001b[0;32m      5\u001b[0m     \u001b[38;5;28;01mreturn\u001b[39;00m c\n\u001b[0;32m      7\u001b[0m add(\u001b[38;5;241m1\u001b[39m, \u001b[38;5;241m2\u001b[39m)\n\u001b[1;32m----> 8\u001b[0m \u001b[38;5;28mprint\u001b[39m(c)\n",
      "\u001b[1;31mNameError\u001b[0m: name 'c' is not defined"
     ]
    }
   ],
   "source": [
    "#Example of local scope:\n",
    "\n",
    "def add(a, b):\n",
    "    c = a + b\n",
    "    return c\n",
    "\n",
    "add(1, 2)\n",
    "print(c) \n"
   ]
  },
  {
   "cell_type": "code",
   "execution_count": 7,
   "id": "377053cc",
   "metadata": {},
   "outputs": [
    {
     "name": "stdout",
     "output_type": "stream",
     "text": [
      "3\n"
     ]
    }
   ],
   "source": [
    "#Example of global scope:\n",
    "c = 0\n",
    "def add(a, b):\n",
    "    global c\n",
    "    c = a + b\n",
    "    return c\n",
    "add(1, 2)\n",
    "print(c)"
   ]
  },
  {
   "cell_type": "markdown",
   "id": "cef9dbc4",
   "metadata": {},
   "source": [
    "6. How can you use the “return” statement in a Python function to\n",
    "return multiple values?\n",
    "\n",
    "* Answer: The return statement is used to exit a function and return a\n",
    "single value but if we want to return multiple values, we can achieve\n",
    "that by separating them with commas.\n",
    "\n"
   ]
  },
  {
   "cell_type": "code",
   "execution_count": 8,
   "id": "04d11a51",
   "metadata": {},
   "outputs": [
    {
     "name": "stdout",
     "output_type": "stream",
     "text": [
      "(70, 'Alpha', [11, 22, 33])\n"
     ]
    }
   ],
   "source": [
    "#Example of a function that returns multiple values:\n",
    "def return_multiple_values():\n",
    "    value1 = 70\n",
    "    value2 = \"Alpha\"\n",
    "    value3 = [11, 22, 33]\n",
    "    return value1, value2, value3\n",
    "\n",
    "result = return_multiple_values()\n",
    "print(result)"
   ]
  },
  {
   "cell_type": "markdown",
   "id": "9a55b14c",
   "metadata": {},
   "source": [
    "7. What is the difference between the “pass by value” and “pass by\n",
    "reference” concepts when it comes to function arguments in Python?\n",
    "\n",
    "* Answer: I had a hard time understanding this concept. But found a post\n",
    "on Linkedin with which I understood a little bit, maybe I can get wrong.\n",
    "\n",
    "* So Pass by value means that a copy of the argument is passed to the\n",
    "    function or method. So, if we change the value of the argument\n",
    "    inside the function, it will not affect the original value."
   ]
  },
  {
   "cell_type": "code",
   "execution_count": 9,
   "id": "bfed21f2",
   "metadata": {},
   "outputs": [
    {
     "name": "stdout",
     "output_type": "stream",
     "text": [
      "5\n"
     ]
    }
   ],
   "source": [
    "#Example of pass by value:\n",
    "def change_value(value):\n",
    "    value = 10\n",
    "\n",
    "value = 5\n",
    "change_value(value)\n",
    "print(value) # 5"
   ]
  },
  {
   "cell_type": "markdown",
   "id": "841eb035",
   "metadata": {},
   "source": [
    "* Pass by reference means that the reference to the argument is passed\n",
    "to the function or method. So, if we change the value of the\n",
    "argument inside the function, it will affect the original value."
   ]
  },
  {
   "cell_type": "code",
   "execution_count": 10,
   "id": "144a091a",
   "metadata": {},
   "outputs": [
    {
     "name": "stdout",
     "output_type": "stream",
     "text": [
      "[10]\n"
     ]
    }
   ],
   "source": [
    "#Example of pass by reference:\n",
    "def change_value(value):\n",
    "    value[0] = 10\n",
    "\n",
    "value = [5]\n",
    "change_value(value)\n",
    "print(value) # [10]"
   ]
  },
  {
   "cell_type": "markdown",
   "id": "1fb23395",
   "metadata": {},
   "source": [
    "8. Create a function that can intake integer or decimal value and do\n",
    "    following operations:\n",
    "* Logarithmic function (log x)\n",
    "* Exponential function (exp(x))\n",
    "* Power function with base 2 (2^x)\n",
    "* Square root\n",
    "\n",
    "\n"
   ]
  },
  {
   "cell_type": "code",
   "execution_count": 12,
   "id": "80a49fd6",
   "metadata": {},
   "outputs": [
    {
     "name": "stdout",
     "output_type": "stream",
     "text": [
      "Logarithmic result: 1.547562508716013\n",
      "Exponential result: 109.94717245212352\n",
      "Power (base 2) result: 25.99207668339954\n",
      "Square root result: 2.16794833886788\n"
     ]
    }
   ],
   "source": [
    "import math\n",
    "def operations(value):\n",
    "    log_result = math.log(value)\n",
    "\n",
    "    exp_result = math.exp(value)\n",
    "\n",
    "    power_result = math.pow(2, value)\n",
    "\n",
    "    sqrt_result = math.sqrt(value)\n",
    "\n",
    "    return log_result, exp_result, power_result, sqrt_result\n",
    "\n",
    "result = operations(4.7)\n",
    "print(\"Logarithmic result:\", result[0])\n",
    "print(\"Exponential result:\", result[1])\n",
    "print(\"Power (base 2) result:\", result[2])\n",
    "print(\"Square root result:\", result[3])"
   ]
  },
  {
   "cell_type": "markdown",
   "id": "b3b8d5a2",
   "metadata": {},
   "source": [
    "9. Create a function that takes a full name as an argument and returns\n",
    "    first name and last name.\n",
    "\n",
    "* Answer : When we get a full name, there will be a space between first name and\n",
    "last name. So, we can split the full name by space and get the first\n",
    "name and last name.\n",
    "\n"
   ]
  },
  {
   "cell_type": "code",
   "execution_count": 13,
   "id": "6e8f63d6",
   "metadata": {},
   "outputs": [
    {
     "data": {
      "text/plain": [
       "('Alphonse', 'Beethoven')"
      ]
     },
     "execution_count": 13,
     "metadata": {},
     "output_type": "execute_result"
    }
   ],
   "source": [
    "def get_first_and_last_name(full_name):\n",
    "    first_name = full_name.split(' ')[0]\n",
    "    last_name = full_name.split(' ')[1]\n",
    "    return first_name, last_name\n",
    "\n",
    "get_first_and_last_name('Alphonse Beethoven')"
   ]
  }
 ],
 "metadata": {
  "kernelspec": {
   "display_name": "Python 3 (ipykernel)",
   "language": "python",
   "name": "python3"
  },
  "language_info": {
   "codemirror_mode": {
    "name": "ipython",
    "version": 3
   },
   "file_extension": ".py",
   "mimetype": "text/x-python",
   "name": "python",
   "nbconvert_exporter": "python",
   "pygments_lexer": "ipython3",
   "version": "3.11.5"
  }
 },
 "nbformat": 4,
 "nbformat_minor": 5
}
