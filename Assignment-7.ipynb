{
 "cells": [
  {
   "cell_type": "markdown",
   "id": "3f043b0f",
   "metadata": {},
   "source": [
    "Assignment-7"
   ]
  },
  {
   "cell_type": "markdown",
   "id": "3d878980",
   "metadata": {},
   "source": [
    "1. Create two int type variables, apply addition, subtraction, division and multiplications and store the results in variables. Then print the data in the following format by calling the variables:\n",
    "\n",
    "    * First variable is __ & second variable is __.\n",
    "    * Addition: __ + __ = __\n",
    "    * Subtraction: __ - __ = __\n",
    "    * Multiplication: __ * __ = _\n",
    "    * Division: __ / __ = _"
   ]
  },
  {
   "cell_type": "code",
   "execution_count": 2,
   "id": "8c67af88",
   "metadata": {},
   "outputs": [
    {
     "name": "stdout",
     "output_type": "stream",
     "text": [
      " First variable is 10 & second variable is 10.\n",
      " Addition: 10+10= 20\n",
      " substraction: 10-10= 0\n",
      " Multiplication: 10*10= 100\n",
      " Division: 10/10= 1.0\n"
     ]
    }
   ],
   "source": [
    "a=10\n",
    "b=10\n",
    "\n",
    "addition=a+b\n",
    "substraction=a-b\n",
    "multiplication=a*b\n",
    "division=a/b\n",
    "\n",
    "print(f\" First variable is {a} & second variable is {b}.\")\n",
    "print(f\" Addition: {a}+{b}= {addition}\")\n",
    "print(f\" substraction: {a}-{b}= {substraction}\")\n",
    "print(f\" Multiplication: {a}*{b}= {multiplication}\")\n",
    "print(f\" Division: {a}/{b}= {division}\")\n"
   ]
  },
  {
   "cell_type": "markdown",
   "id": "807a443c",
   "metadata": {},
   "source": [
    "2. What is the difference between the following operators:\n",
    "    * (i) ‘/’ & ‘//’\n",
    "    * (ii) ‘**’ & ‘^’\n",
    "    \n",
    "* Answer : \n",
    "* '/': This is a division operator used for division purpose and return   always a float value.\n",
    "       \n",
    "* '//': This floor division operator is used to return the closest integer value which is less than or equal to a specified expression or value.\n",
    "      \n",
    "* '**': Exponentiation operator returns the result of raising the first operand to the power of the second operand. \n",
    "* eg: 3**3 (same as 3*3*3)\n",
    "* '^' is bitwise operator known as XOR compares each bit and set it to 1 if only one is 1, otherwise (if both are 1 or both are 0) it is set to 0"
   ]
  },
  {
   "cell_type": "code",
   "execution_count": 3,
   "id": "db288a2a",
   "metadata": {},
   "outputs": [
    {
     "name": "stdout",
     "output_type": "stream",
     "text": [
      "1.5\n",
      "1\n",
      "9\n",
      "1\n"
     ]
    }
   ],
   "source": [
    "print(3/2)\n",
    "print(3//2)\n",
    "print(3**2)\n",
    "print(3^2)"
   ]
  },
  {
   "cell_type": "markdown",
   "id": "89233e96",
   "metadata": {},
   "source": [
    "3. List the logical operators.\n",
    "\n",
    "* Answer : \n",
    "* AND: This operator returns True if both the statements are True.\n",
    "\n",
    "* OR: This operator returns True if any one of the statement is True.\n",
    "\n",
    "* NOT: This operator returns the opposite i.e returns True if False and False if True"
   ]
  },
  {
   "cell_type": "markdown",
   "id": "e7a34cd5",
   "metadata": {},
   "source": [
    "4. Explain right shift operator and left shift operator with examples.\n",
    "* Answer : \n",
    "* Right Shift operator : The left operand’s value is moved toward right by the number of bits specified by the right operand.\n",
    "\n",
    "* left shift operator : The left operand’s value is moved toward left by the number of bits specified by the right operand.\n"
   ]
  },
  {
   "cell_type": "markdown",
   "id": "66e64bb6",
   "metadata": {},
   "source": [
    "5. Create a list containing int type data of length 15. Then write a code to check if 10 is\n",
    "present in the list or not."
   ]
  },
  {
   "cell_type": "code",
   "execution_count": 7,
   "id": "5adaf650",
   "metadata": {},
   "outputs": [
    {
     "name": "stdout",
     "output_type": "stream",
     "text": [
      "15\n",
      "10 is present in the list\n"
     ]
    }
   ],
   "source": [
    "a = [10,11,12,13,14,15,16,17,18,19,20,21,22,23,24]\n",
    "print(len(a))\n",
    "#check if 10 is in the list\n",
    "num = 10\n",
    "for i in a:\n",
    "    if i == num:\n",
    "        print('10 is present in the list')\n",
    "        break\n",
    "    else:\n",
    "        print('10 is not present in the list')"
   ]
  }
 ],
 "metadata": {
  "kernelspec": {
   "display_name": "Python 3 (ipykernel)",
   "language": "python",
   "name": "python3"
  },
  "language_info": {
   "codemirror_mode": {
    "name": "ipython",
    "version": 3
   },
   "file_extension": ".py",
   "mimetype": "text/x-python",
   "name": "python",
   "nbconvert_exporter": "python",
   "pygments_lexer": "ipython3",
   "version": "3.11.5"
  }
 },
 "nbformat": 4,
 "nbformat_minor": 5
}
