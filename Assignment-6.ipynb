{
 "cells": [
  {
   "cell_type": "markdown",
   "id": "f1da6a67",
   "metadata": {},
   "source": [
    "Assignment-6"
   ]
  },
  {
   "cell_type": "markdown",
   "id": "db33f205",
   "metadata": {},
   "source": [
    "1. What are keywords in python? USing the keyword library, print all the python keywords.\n",
    "* Answer : In python, keywords are case sensitive, reserved words that cannot be used as identifiers."
   ]
  },
  {
   "cell_type": "code",
   "execution_count": 1,
   "id": "3c899649",
   "metadata": {},
   "outputs": [
    {
     "name": "stdout",
     "output_type": "stream",
     "text": [
      "['False', 'None', 'True', 'and', 'as', 'assert', 'async', 'await', 'break', 'class', 'continue', 'def', 'del', 'elif', 'else', 'except', 'finally', 'for', 'from', 'global', 'if', 'import', 'in', 'is', 'lambda', 'nonlocal', 'not', 'or', 'pass', 'raise', 'return', 'try', 'while', 'with', 'yield']\n"
     ]
    }
   ],
   "source": [
    "import keyword\n",
    "print(keyword.kwlist)"
   ]
  },
  {
   "cell_type": "markdown",
   "id": "b4d8cada",
   "metadata": {},
   "source": [
    "2. what are the rules to create variables in python?\n",
    "* Answer : \n",
    "* Variable name cannot start with digit or underscore\n",
    "* variable name can be in uppercase or lowercase, it can be alphanumeric, underscore\n",
    "* variable names are case sensitive \n",
    "* variable names should not be same as keywords"
   ]
  },
  {
   "cell_type": "markdown",
   "id": "5b088dde",
   "metadata": {},
   "source": [
    "3. What are the standards and conventions followed for the nomenclature of variables in python to improve code readability and maintainability?\n",
    "* Answer : \n",
    "* The name can be in upper or lower case, can have alphabets, digits and underscores.\n",
    "* It cannot start with digit or underscore.\n",
    "* Cannot use keywords as variable names.\n",
    "* Variable names are case sensitive."
   ]
  },
  {
   "cell_type": "markdown",
   "id": "2e675fab",
   "metadata": {},
   "source": [
    "4. What will happen if a keyword is used as a variable name?\n",
    "\n",
    "* Answer : It'll give an error that \"syntaxerror: invalid syntax\"."
   ]
  },
  {
   "cell_type": "code",
   "execution_count": 2,
   "id": "10e33267",
   "metadata": {},
   "outputs": [
    {
     "ename": "SyntaxError",
     "evalue": "cannot assign to True (922659677.py, line 1)",
     "output_type": "error",
     "traceback": [
      "\u001b[1;36m  Cell \u001b[1;32mIn[2], line 1\u001b[1;36m\u001b[0m\n\u001b[1;33m    True = 5\u001b[0m\n\u001b[1;37m    ^\u001b[0m\n\u001b[1;31mSyntaxError\u001b[0m\u001b[1;31m:\u001b[0m cannot assign to True\n"
     ]
    }
   ],
   "source": [
    "True = 5"
   ]
  },
  {
   "cell_type": "markdown",
   "id": "7ff62861",
   "metadata": {},
   "source": [
    "5. For what purpose def keyword is used?\n",
    "* Answer : def keyword is a constructor which is used to define a function."
   ]
  },
  {
   "cell_type": "markdown",
   "id": "965f9c01",
   "metadata": {},
   "source": [
    "6. What is the operation of this special character ‘\\’?\n",
    "* Answer : This special character '\\' is known as escape which is used to represents whitespace characters like \\n: for new line, \\t: for new tab, etc."
   ]
  },
  {
   "cell_type": "markdown",
   "id": "dc06945c",
   "metadata": {},
   "source": [
    "7. Give an example of the following conditions:\n",
    "(i) Homogeneous list\n",
    "(ii) Heterogeneous set\n",
    "(iii) Homogeneous tuple\n",
    "\n",
    "* Answer :\n",
    "* Homogeneous list --> contains values of same data type.\n",
    "* Heterogeneous set --> contains values of different data type.\n",
    "* Homogeneous tuple --> contains values of same data type."
   ]
  },
  {
   "cell_type": "markdown",
   "id": "19b2e141",
   "metadata": {},
   "source": [
    "8. Explain the mutable and immutable data types with proper explanation & examples.\n",
    "* Answer :\n",
    "* Mutable are data types which can be altered like lists, ditionaries and sets.\n",
    "* Immutable are data types which cannot be altered like strings and tuples."
   ]
  },
  {
   "cell_type": "markdown",
   "id": "55df18e8",
   "metadata": {},
   "source": [
    "9. Write a code to create the given structure using only for loop.\n",
    "* '*'\n",
    "* '***'\n",
    "* '*****'\n",
    "* '*******'\n",
    "* '*********'"
   ]
  },
  {
   "cell_type": "code",
   "execution_count": 5,
   "id": "103d2ce7",
   "metadata": {},
   "outputs": [
    {
     "name": "stdout",
     "output_type": "stream",
     "text": [
      "     \n",
      "    *\n",
      "   ***\n",
      "  *****\n",
      " *******\n",
      "*********\n"
     ]
    }
   ],
   "source": [
    "n=5\n",
    "for i in range(0,n+1):\n",
    "   for j in range(n-i):\n",
    "    print(\" \", end=\"\")\n",
    "   for k in range(2*i-1):\n",
    "    print(\"*\", end=\"\")\n",
    "   print()\n",
    "\n",
    "    "
   ]
  },
  {
   "cell_type": "markdown",
   "id": "c6b8e52d",
   "metadata": {},
   "source": [
    "Q.10. Write a code to create the given structure using while loop.\n",
    "* '|||||||||'\n",
    "* '|||||||'\n",
    "* '|||||'\n",
    "* '|||'\n",
    "* '|'"
   ]
  },
  {
   "cell_type": "code",
   "execution_count": 6,
   "id": "2a8e9436",
   "metadata": {},
   "outputs": [
    {
     "name": "stdout",
     "output_type": "stream",
     "text": [
      "|||||||||\n",
      " |||||||\n",
      "  |||||\n",
      "   |||\n",
      "    |\n"
     ]
    }
   ],
   "source": [
    "n= 5\n",
    "for i in range(1, n+1):\n",
    "    for j in range(i-1):\n",
    "        print(\" \", end=\"\")\n",
    "    for k in range(2*(n-i)+1):\n",
    "        print(\"|\", end=\"\")\n",
    "    print()"
   ]
  }
 ],
 "metadata": {
  "kernelspec": {
   "display_name": "Python 3 (ipykernel)",
   "language": "python",
   "name": "python3"
  },
  "language_info": {
   "codemirror_mode": {
    "name": "ipython",
    "version": 3
   },
   "file_extension": ".py",
   "mimetype": "text/x-python",
   "name": "python",
   "nbconvert_exporter": "python",
   "pygments_lexer": "ipython3",
   "version": "3.11.5"
  }
 },
 "nbformat": 4,
 "nbformat_minor": 5
}
