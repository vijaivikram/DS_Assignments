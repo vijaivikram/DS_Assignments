{
 "cells": [
  {
   "cell_type": "markdown",
   "id": "22809a11",
   "metadata": {},
   "source": [
    "11th June - Python (Functions Assignment) - 1"
   ]
  },
  {
   "cell_type": "markdown",
   "id": "42a14256-91c8-446e-92a7-ab6bf11055d3",
   "metadata": {},
   "source": [
    "1.  What is a lambda function in Python, and how does it differ from a\n",
    "    regular function?\n",
    "\n",
    "* Answer: Lambda functions are anonymous functions that are defined\n",
    "without a name. Lambda functions are different from regular functions in\n",
    "the following ways:\n",
    "\n",
    "* Lambda functions are defined without a name whereas regular\n",
    "    functions are defined with a name.\n",
    "* Lambda functions can have only one expression whereas regular\n",
    "    functions can have multiple expressions.\n",
    "* Lambda functions can have only one line of code whereas regular\n",
    "    functions can have multiple lines of code."
   ]
  },
  {
   "cell_type": "code",
   "execution_count": 1,
   "id": "026f620b",
   "metadata": {},
   "outputs": [
    {
     "data": {
      "text/plain": [
       "33"
      ]
     },
     "execution_count": 1,
     "metadata": {},
     "output_type": "execute_result"
    }
   ],
   "source": [
    "#Example of a lambda function:\n",
    "add = lambda a, b: a + b\n",
    "add(11, 22)"
   ]
  },
  {
   "cell_type": "markdown",
   "id": "75ae6ea4",
   "metadata": {},
   "source": [
    "2.  Can a lambda function in Python have multiple arguments? If yes, how\n",
    "    can you define and use them?\n",
    "\n",
    "* Answer: Yes, a lambda function in Python can have multiple arguments. We\n",
    "can define and use them as follows:\n",
    "\n"
   ]
  },
  {
   "cell_type": "code",
   "execution_count": 2,
   "id": "e1120c19",
   "metadata": {},
   "outputs": [
    {
     "data": {
      "text/plain": [
       "33"
      ]
     },
     "execution_count": 2,
     "metadata": {},
     "output_type": "execute_result"
    }
   ],
   "source": [
    "add = lambda a, b: a + b\n",
    "add(11, 22)"
   ]
  },
  {
   "cell_type": "markdown",
   "id": "60c907d0",
   "metadata": {},
   "source": [
    "3. How are lambda functions typically used in Python? Provide an\n",
    "    example use case.\n",
    "\n",
    "* Answer: Lambda functions are typically used in Python to define\n",
    "functions that are used only once or we can say they are used where you\n",
    "want to do some small stuff. For example, if we want to add two numbers,\n",
    "we can use a lambda function instead of defining a regular function.\n",
    "\n",
    "\n"
   ]
  },
  {
   "cell_type": "code",
   "execution_count": 3,
   "id": "4edb0d99",
   "metadata": {},
   "outputs": [
    {
     "data": {
      "text/plain": [
       "33"
      ]
     },
     "execution_count": 3,
     "metadata": {},
     "output_type": "execute_result"
    }
   ],
   "source": [
    "add = lambda a, b: a + b\n",
    "add(11, 22)"
   ]
  },
  {
   "cell_type": "markdown",
   "id": "60d053e4",
   "metadata": {},
   "source": [
    "4.  What are the advantages and limitations of lambda functions compared\n",
    "    to regular functions in Python?\n",
    "\n",
    "* Answer:\n",
    "* Advantages of lambda functions: \n",
    "* A lambda expression defines\n",
    "a function; the advantage over the `def` statement is you don’t need to\n",
    "write a name for it. \n",
    "* No additional variables are added. \n",
    "* The code is\n",
    "simple. \n",
    "* Limitations of lambda functions: \n",
    "* Lambda functions can have\n",
    "only one expression whereas regular functions can have multiple\n",
    "expressions. \n",
    "* Lambda functions can have only one line of code whereas\n",
    "regular functions can have multiple lines of code.\n"
   ]
  },
  {
   "cell_type": "markdown",
   "id": "2ace9db9",
   "metadata": {},
   "source": [
    "5.  Are lambda functions in Python able to access variables defined\n",
    "    outside of their own scope? Explain with an example.\n",
    "\n",
    "* Answer: Yes, lambda functions in Python are able to access variables\n",
    "defined outside of their own scope."
   ]
  },
  {
   "cell_type": "code",
   "execution_count": 4,
   "id": "201d243a",
   "metadata": {},
   "outputs": [
    {
     "data": {
      "text/plain": [
       "3"
      ]
     },
     "execution_count": 4,
     "metadata": {},
     "output_type": "execute_result"
    }
   ],
   "source": [
    "a = 1\n",
    "add = lambda b: a + b\n",
    "add(2)"
   ]
  },
  {
   "cell_type": "markdown",
   "id": "8d7ba1b3",
   "metadata": {},
   "source": [
    "6.  Write a lambda function to calculate the square of a given number.\n"
   ]
  },
  {
   "cell_type": "code",
   "execution_count": 5,
   "id": "d66beba5",
   "metadata": {},
   "outputs": [
    {
     "data": {
      "text/plain": [
       "4"
      ]
     },
     "execution_count": 5,
     "metadata": {},
     "output_type": "execute_result"
    }
   ],
   "source": [
    "square = lambda a: a * a\n",
    "square(2)"
   ]
  },
  {
   "cell_type": "markdown",
   "id": "8d8e7834",
   "metadata": {},
   "source": [
    "7.  Create a lambda function to find the maximum value in a list of\n",
    "    integers."
   ]
  },
  {
   "cell_type": "code",
   "execution_count": null,
   "id": "d4f8b653",
   "metadata": {
    "scrolled": true
   },
   "outputs": [],
   "source": [
    "mylist = [\"25\", \"35\", \"100\", \"10\", \"60\"]\n",
    "\n",
    "max_num = max(mylist, key=lambda x:int(x))\n",
    "max_num(mylist)\n"
   ]
  },
  {
   "cell_type": "markdown",
   "id": "ebc17f40",
   "metadata": {},
   "source": [
    "8.  Implement a lambda function to filter out all the even numbers from\n",
    "    a list of integers."
   ]
  },
  {
   "cell_type": "code",
   "execution_count": 6,
   "id": "bfbc3fba",
   "metadata": {},
   "outputs": [
    {
     "data": {
      "text/plain": [
       "[2, 4]"
      ]
     },
     "execution_count": 6,
     "metadata": {},
     "output_type": "execute_result"
    }
   ],
   "source": [
    "even = lambda a: [i for i in a if i % 2 == 0]\n",
    "even([1, 2, 3, 4])"
   ]
  },
  {
   "cell_type": "markdown",
   "id": "531ada50",
   "metadata": {},
   "source": [
    "9.  Write a lambda function to sort a list of strings in ascending order\n",
    "    based on the length of each string."
   ]
  },
  {
   "cell_type": "code",
   "execution_count": 7,
   "id": "bc719dc3",
   "metadata": {},
   "outputs": [
    {
     "name": "stdout",
     "output_type": "stream",
     "text": [
      "['Python', 'iNeuron', 'Assignment']\n"
     ]
    }
   ],
   "source": [
    "sort = lambda a: sorted(a, key=len)\n",
    "print(sort(['iNeuron', 'Python', 'Assignment']))"
   ]
  },
  {
   "cell_type": "markdown",
   "id": "120c5668",
   "metadata": {},
   "source": [
    "10.  Create a lambda function that takes two lists as input and returns a\n",
    "    new list containing the common elements between the two lists.\n",
    "\n"
   ]
  },
  {
   "cell_type": "code",
   "execution_count": 8,
   "id": "46fb7693",
   "metadata": {},
   "outputs": [
    {
     "data": {
      "text/plain": [
       "[2, 3]"
      ]
     },
     "execution_count": 8,
     "metadata": {},
     "output_type": "execute_result"
    }
   ],
   "source": [
    "common = lambda a, b: [i for i in a if i in b]\n",
    "common([1, 2, 3], [2, 3, 4]) # [2, 3]"
   ]
  },
  {
   "cell_type": "markdown",
   "id": "d7f98fff",
   "metadata": {},
   "source": [
    "11.  Write a recursive function to calculate the factorial of a given\n",
    "    positive integer.\n",
    "\n",
    "\n",
    " "
   ]
  },
  {
   "cell_type": "code",
   "execution_count": 9,
   "id": "6cbfd826",
   "metadata": {},
   "outputs": [
    {
     "data": {
      "text/plain": [
       "120"
      ]
     },
     "execution_count": 9,
     "metadata": {},
     "output_type": "execute_result"
    }
   ],
   "source": [
    "def factorial(n):\n",
    "    if n == 1:\n",
    "        return 1\n",
    "    else:\n",
    "        return n * factorial(n - 1)\n",
    "\n",
    "factorial(5)"
   ]
  },
  {
   "cell_type": "markdown",
   "id": "9b596c8a",
   "metadata": {},
   "source": [
    "12.  Implement a recursive function to compute the nth Fibonacci number."
   ]
  },
  {
   "cell_type": "code",
   "execution_count": 10,
   "id": "65d1586e",
   "metadata": {},
   "outputs": [
    {
     "data": {
      "text/plain": [
       "5"
      ]
     },
     "execution_count": 10,
     "metadata": {},
     "output_type": "execute_result"
    }
   ],
   "source": [
    "def fibonacci(n):\n",
    "    a = 0\n",
    "    b = 1\n",
    "    if n < 0:\n",
    "        print(\"Incorrect input\")\n",
    "    elif n == 0:\n",
    "        return a\n",
    "    elif n == 1:\n",
    "        return b\n",
    "    else:\n",
    "        for i in range(2, n+1):\n",
    "            c = a + b\n",
    "            a = b\n",
    "            b = c\n",
    "        return b\n",
    "\n",
    "fibonacci(5)"
   ]
  },
  {
   "cell_type": "markdown",
   "id": "0d39b85b",
   "metadata": {},
   "source": [
    "13.  Create a recursive function to find the sum of all the elements in a\n",
    "    given list."
   ]
  },
  {
   "cell_type": "code",
   "execution_count": 11,
   "id": "84fe38d8",
   "metadata": {},
   "outputs": [
    {
     "data": {
      "text/plain": [
       "6"
      ]
     },
     "execution_count": 11,
     "metadata": {},
     "output_type": "execute_result"
    }
   ],
   "source": [
    "def sum(a):\n",
    "    if len(a) == 1:\n",
    "        return a[0]\n",
    "    else:\n",
    "        return a[0] + sum(a[1:])\n",
    "\n",
    "sum([1, 2, 3])"
   ]
  },
  {
   "cell_type": "markdown",
   "id": "b6518e7f",
   "metadata": {},
   "source": [
    "14.  Write a recursive function to determine whether a given string is a\n",
    "    palindrome."
   ]
  },
  {
   "cell_type": "code",
   "execution_count": 12,
   "id": "cbc59150",
   "metadata": {},
   "outputs": [
    {
     "name": "stdout",
     "output_type": "stream",
     "text": [
      "True\n",
      "False\n"
     ]
    }
   ],
   "source": [
    "def palindrome(s):\n",
    "    if len(s) <= 1:\n",
    "        return True\n",
    "    else:\n",
    "        return s[0] == s[-1] and palindrome(s[1:-1])\n",
    "\n",
    "print(palindrome('1001'))\n",
    "print(palindrome('won'))"
   ]
  },
  {
   "cell_type": "markdown",
   "id": "656946df",
   "metadata": {},
   "source": [
    "15.  Implement a recursive function to find the greatest common divisor\n",
    "    (GCD) of two positive integers."
   ]
  },
  {
   "cell_type": "code",
   "execution_count": 13,
   "id": "3787221e",
   "metadata": {},
   "outputs": [
    {
     "data": {
      "text/plain": [
       "3"
      ]
     },
     "execution_count": 13,
     "metadata": {},
     "output_type": "execute_result"
    }
   ],
   "source": [
    "def gcd(a, b):\n",
    "    if b == 0:\n",
    "        return a\n",
    "    else:\n",
    "        return gcd(b, a % b)\n",
    "\n",
    "gcd(12, 3)"
   ]
  }
 ],
 "metadata": {
  "kernelspec": {
   "display_name": "Python 3 (ipykernel)",
   "language": "python",
   "name": "python3"
  },
  "language_info": {
   "codemirror_mode": {
    "name": "ipython",
    "version": 3
   },
   "file_extension": ".py",
   "mimetype": "text/x-python",
   "name": "python",
   "nbconvert_exporter": "python",
   "pygments_lexer": "ipython3",
   "version": "3.11.5"
  }
 },
 "nbformat": 4,
 "nbformat_minor": 5
}
