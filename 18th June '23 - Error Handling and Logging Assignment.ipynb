{
 "cells": [
  {
   "cell_type": "markdown",
   "id": "32cb4331",
   "metadata": {},
   "source": [
    "18th June '23 - Error Handling and Logging Assignment"
   ]
  },
  {
   "cell_type": "markdown",
   "id": "8a333fc7",
   "metadata": {},
   "source": [
    "1. What is the role of the 'else' block in a try-except statement? Provide an example scenario where it would be useful.\n",
    "\n",
    "* Answer: The role of the `else` block in a try-except statement is to execute the code in the `else` block if there's no exception raised by the code in the `try` block. It would be useful when we want to execute some code if there's no exception raised by the code in the `try` block.\n"
   ]
  },
  {
   "cell_type": "code",
   "execution_count": 1,
   "id": "7a644bed",
   "metadata": {},
   "outputs": [
    {
     "name": "stdout",
     "output_type": "stream",
     "text": [
      "1.0\n",
      "No error occurred\n"
     ]
    }
   ],
   "source": [
    "try:\n",
    "    print(1/1)\n",
    "except:\n",
    "    print(\"Error occurred\")\n",
    "else:\n",
    "    print(\"No error occurred\")"
   ]
  },
  {
   "cell_type": "markdown",
   "id": "6f344a6e",
   "metadata": {},
   "source": [
    "2. Can a try-except block be nested inside another try-except block? Explain with an example.\n",
    "\n",
    "* Answer: Yes, a try-except block can be nested inside another try-except block.\n"
   ]
  },
  {
   "cell_type": "code",
   "execution_count": 2,
   "id": "bb8d66ee",
   "metadata": {},
   "outputs": [
    {
     "name": "stdout",
     "output_type": "stream",
     "text": [
      "ZeroDivisionError occurred\n"
     ]
    }
   ],
   "source": [
    "try:\n",
    "    try:\n",
    "        print(1/0)\n",
    "    except ZeroDivisionError:\n",
    "        print(\"ZeroDivisionError occurred\")\n",
    "except:\n",
    "    print(\"Error occurred\")"
   ]
  },
  {
   "cell_type": "markdown",
   "id": "28e73370",
   "metadata": {},
   "source": [
    "3. How can you create a custom exception class in Python? Provide an example that demonstrates its usage.\n",
    "\n",
    "* Answer: We can create a custom exception class in Python by inheriting the `Exception` class.\n"
   ]
  },
  {
   "cell_type": "code",
   "execution_count": 3,
   "id": "c0be0d3d",
   "metadata": {},
   "outputs": [
    {
     "name": "stdout",
     "output_type": "stream",
     "text": [
      "Custom Exception: This is a custom exception.\n"
     ]
    }
   ],
   "source": [
    "custom_exception = Exception(\"Custom Exception: This is a custom exception.\")\n",
    "\n",
    "# Example usage\n",
    "def divide(a, b):\n",
    "    if b == 0:\n",
    "        raise custom_exception\n",
    "    return a / b\n",
    "\n",
    "try:\n",
    "    result = divide(10, 0)\n",
    "    print(result)\n",
    "except Exception as e:\n",
    "    print(e)"
   ]
  },
  {
   "cell_type": "markdown",
   "id": "d7f7030b",
   "metadata": {},
   "source": [
    "4. What are some common exceptions that are built-in to Python?\n",
    "\n",
    "* Answer: Some common exceptions that are built-in to Python are:\n",
    "\n",
    "* `ZeroDivisionError` - Raised when the second operand of a division or modulo operation is zero.\n",
    "* `NameError` - Raised when a local or global name is not found.\n",
    "* `TypeError` - Raised when an operation or function is applied to an object of inappropriate type.\n",
    "* `ValueError` - Raised when a built-in operation or function receives an argument that has the right type but an inappropriate value.\n",
    "* `IndexError` - Raised when a sequence subscript is out of range.\n"
   ]
  },
  {
   "cell_type": "markdown",
   "id": "820ebf49",
   "metadata": {},
   "source": [
    "5. What is logging in Python, and why is it important in software development?\n",
    "\n",
    "* Answer: Logging is the process of recording the events that occur during the execution of a program. It is important in software development because it helps us to debug the program and find the errors in the program. If we don't log the events that occur during the execution of a program, then it will be difficult to debug the program and find the errors in the program."
   ]
  },
  {
   "cell_type": "markdown",
   "id": "5db2a932",
   "metadata": {},
   "source": [
    "6. Explain the purpose of log levels in Python logging and provide examples of when each log level would be appropriate.\n",
    "\n",
    "* Answer: The purpose of log levels in Python logging is to categorize the events that occur during the execution of a program. The log levels are:\n",
    "\n",
    "* `DEBUG` - Detailed information, typically of interest only when diagnosing problems.\n",
    "* `INFO` - Confirmation that things are working as expected.\n",
    "* `WARNING` - An indication that something unexpected happened, or indicative of some problem in the near future.\n",
    "* `ERROR` - Due to a more serious problem, the software has not been able to perform some function.\n",
    "* `CRITICAL` - A serious error, indicating that the program itself may be unable to continue running.\n"
   ]
  },
  {
   "cell_type": "code",
   "execution_count": 4,
   "id": "e379a24e",
   "metadata": {},
   "outputs": [
    {
     "name": "stderr",
     "output_type": "stream",
     "text": [
      "DEBUG:root:This is a debug message\n",
      "INFO:root:This is an info message\n",
      "WARNING:root:This is a warning message\n",
      "ERROR:root:This is an error message\n",
      "CRITICAL:root:This is a critical message\n"
     ]
    }
   ],
   "source": [
    "import logging\n",
    "\n",
    "logging.basicConfig(level=logging.DEBUG)\n",
    "\n",
    "logging.debug(\"This is a debug message\")\n",
    "logging.info(\"This is an info message\")\n",
    "logging.warning(\"This is a warning message\")\n",
    "logging.error(\"This is an error message\")\n",
    "logging.critical(\"This is a critical message\")"
   ]
  },
  {
   "cell_type": "markdown",
   "id": "48ec4981",
   "metadata": {},
   "source": [
    "7. What are log formatters in Python logging, and how can you customise the log message format using formatters?\n",
    "\n",
    "* Answer: Log formatters in Python logging are used to specify the format of the log messages. We can customise the log message format using formatters by specifying the format of the log messages in the `basicConfig` function."
   ]
  },
  {
   "cell_type": "code",
   "execution_count": 5,
   "id": "e189e771",
   "metadata": {},
   "outputs": [
    {
     "name": "stderr",
     "output_type": "stream",
     "text": [
      "DEBUG:root:This is a debug message\n",
      "INFO:root:This is an info message\n",
      "WARNING:root:This is a warning message\n",
      "ERROR:root:This is an error message\n",
      "CRITICAL:root:This is a critical message\n"
     ]
    }
   ],
   "source": [
    "import logging\n",
    "\n",
    "logging.basicConfig(level=logging.DEBUG, format=\"%(asctime)s - %(levelname)s - %(message)s\")\n",
    "\n",
    "logging.debug(\"This is a debug message\")\n",
    "logging.info(\"This is an info message\")\n",
    "logging.warning(\"This is a warning message\")\n",
    "logging.error(\"This is an error message\")\n",
    "logging.critical(\"This is a critical message\")\n"
   ]
  },
  {
   "cell_type": "markdown",
   "id": "ab3956b1",
   "metadata": {},
   "source": [
    "8. How can you set up logging to capture log messages from multiple modules or classes in a Python application?"
   ]
  },
  {
   "cell_type": "code",
   "execution_count": 6,
   "id": "5b2b1283",
   "metadata": {},
   "outputs": [
    {
     "name": "stderr",
     "output_type": "stream",
     "text": [
      "DEBUG:module1:Debug message in module1\n",
      "INFO:module1:Info message in module1\n",
      "WARNING:module1:Warning message in module1\n",
      "ERROR:module1:Error message in module1\n",
      "CRITICAL:module1:Critical message in module1\n",
      "DEBUG:module2:Debug message in module2\n",
      "INFO:module2:Info message in module2\n",
      "WARNING:module2:Warning message in module2\n",
      "ERROR:module2:Error message in module2\n",
      "CRITICAL:module2:Critical message in module2\n"
     ]
    }
   ],
   "source": [
    "import logging\n",
    "\n",
    "# Configure the root logger\n",
    "logging.basicConfig(level=logging.DEBUG, format='%(asctime)s - %(levelname)s - %(message)s')\n",
    "\n",
    "# Create a logger for each module or class\n",
    "logger_module1 = logging.getLogger('module1')\n",
    "logger_module2 = logging.getLogger('module2')\n",
    "\n",
    "# Example usage in module1\n",
    "def function_in_module1():\n",
    "    logger_module1.debug('Debug message in module1')\n",
    "    logger_module1.info('Info message in module1')\n",
    "    logger_module1.warning('Warning message in module1')\n",
    "    logger_module1.error('Error message in module1')\n",
    "    logger_module1.critical('Critical message in module1')\n",
    "\n",
    "# Example usage in module2\n",
    "def function_in_module2():\n",
    "    logger_module2.debug('Debug message in module2')\n",
    "    logger_module2.info('Info message in module2')\n",
    "    logger_module2.warning('Warning message in module2')\n",
    "    logger_module2.error('Error message in module2')\n",
    "    logger_module2.critical('Critical message in module2')\n",
    "\n",
    "# Logging messages from multiple modules or classes\n",
    "function_in_module1()\n",
    "function_in_module2()"
   ]
  },
  {
   "cell_type": "markdown",
   "id": "5e392666",
   "metadata": {},
   "source": [
    "9. What is the difference between the logging and print statements in Python? When should you use logging over print statements in a real-world application?\n",
    "\n",
    "* Answer: The difference between the logging and print statements in Python is that the logging statements are used to record the events that occur during the execution of a program, while the print statements are used to display the output of a program. We should use logging over print statements in a real-world application because logging is more flexible than print statements. We can configure the logging statements to record the events that occur during the execution of a program in a file, while the print statements can only display the output of a program on the console."
   ]
  },
  {
   "cell_type": "markdown",
   "id": "6615b06d",
   "metadata": {},
   "source": [
    "10. Write a Python program that logs a message to a file named \"app.log\" with the following requirements:\n",
    "    * The log message should be \"Hello, World!\"\n",
    "    * The log level should be set to \"INFO.\"\n",
    "    * The log file should append new log entries without overwriting previous ones."
   ]
  },
  {
   "cell_type": "code",
   "execution_count": 7,
   "id": "11572191",
   "metadata": {},
   "outputs": [
    {
     "name": "stderr",
     "output_type": "stream",
     "text": [
      "INFO:root:Hello, World!\n"
     ]
    }
   ],
   "source": [
    "import logging\n",
    "\n",
    "logging.basicConfig(filename='app.log', level=logging.INFO, format='%(asctime)s - %(levelname)s - %(message)s')\n",
    "\n",
    "logging.info('Hello, World!')"
   ]
  },
  {
   "cell_type": "markdown",
   "id": "3b900652",
   "metadata": {},
   "source": [
    "11. Create a Python program that logs an error message to the console and a file named\n",
    "\"errors.log\" if an exception occurs during the program's execution. The error message should include the exception type and a timestamp."
   ]
  },
  {
   "cell_type": "code",
   "execution_count": 8,
   "id": "df9fd2bb",
   "metadata": {},
   "outputs": [
    {
     "name": "stderr",
     "output_type": "stream",
     "text": [
      "ERROR:root:division by zero\n",
      "Traceback (most recent call last):\n",
      "  File \"C:\\Users\\Vijai vikram\\AppData\\Local\\Temp\\ipykernel_21932\\2952732309.py\", line 6, in <module>\n",
      "    1 / 0\n",
      "    ~~^~~\n",
      "ZeroDivisionError: division by zero\n"
     ]
    }
   ],
   "source": [
    "import logging\n",
    "\n",
    "logging.basicConfig(filename='errors.log', level=logging.ERROR, format='%(asctime)s - %(levelname)s - %(message)s')\n",
    "\n",
    "try:\n",
    "    1 / 0\n",
    "except Exception as e:\n",
    "    logging.error(e, exc_info=True)"
   ]
  }
 ],
 "metadata": {
  "kernelspec": {
   "display_name": "Python 3 (ipykernel)",
   "language": "python",
   "name": "python3"
  },
  "language_info": {
   "codemirror_mode": {
    "name": "ipython",
    "version": 3
   },
   "file_extension": ".py",
   "mimetype": "text/x-python",
   "name": "python",
   "nbconvert_exporter": "python",
   "pygments_lexer": "ipython3",
   "version": "3.11.5"
  }
 },
 "nbformat": 4,
 "nbformat_minor": 5
}
