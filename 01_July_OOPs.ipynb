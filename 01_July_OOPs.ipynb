{
 "cells": [
  {
   "cell_type": "markdown",
   "id": "58b1b8c8",
   "metadata": {},
   "source": [
    "1. What is the primary goal of Object-Oriented Programming (OOP)?\n",
    "* Answer : The main concept of OOPs is to bind the data and the functions that work on that together as a single unit so that no other part of the code can access this data. Object Oriented programming language is based on classes and objects and the main feature of oops are encapsulation, abstraction, inheritance and polymorphism(that is pillars of oops)."
   ]
  },
  {
   "cell_type": "markdown",
   "id": "66faa0f3",
   "metadata": {},
   "source": [
    "2. What is an object in Python?\n",
    "* Answer : \n",
    "* Object is a specific entity. It is an instance or blueprint of class.\n",
    "\n",
    "* syntax to create an object: objectName = ClassName(). we can use objects to access the class attributes.\n",
    "\n",
    "* We can create multiple objects from single class."
   ]
  },
  {
   "cell_type": "code",
   "execution_count": 1,
   "id": "12018964",
   "metadata": {},
   "outputs": [],
   "source": [
    "class Person:\n",
    "    name=\"Priya\"\n",
    "\n",
    "person1=Person() #person1 is a object of class Person()"
   ]
  },
  {
   "cell_type": "markdown",
   "id": "5d99a21a",
   "metadata": {},
   "source": [
    "3. What is a class in Python?\n",
    "* Answer : \n",
    "* A class is considered as a blueprint of objects. We can think of the class as a sketch (prototype) of a house. It contains all the details about the floors, doors, windows, etc. Based on these descriptions we build the house. House is the object.\n",
    "\n",
    "* Since many houses can be made from the same description, we can create many objects from a class.\n",
    "\n",
    "* we use class keyword to create class. Syntax:-\n",
    "\n",
    "* class ClassName: # class definition"
   ]
  },
  {
   "cell_type": "code",
   "execution_count": 2,
   "id": "f0b1a1f3",
   "metadata": {},
   "outputs": [],
   "source": [
    "class Person:\n",
    "    name=\"Priya\"\n",
    "    age=30\n",
    "    "
   ]
  },
  {
   "cell_type": "markdown",
   "id": "f35925db",
   "metadata": {},
   "source": [
    "4. What are attributes and methods in a class?\n",
    "* Answer : \n",
    "* Attributes: The variables inside a class are called attributes.like name, age, gender etc. are the attributes of class person.\n",
    "\n",
    "* Methods: A Function defined inside a class is called a method.\n",
    "\n",
    "* In below example:we created a class named Person with Attributes: first_name and last_name Method: display_name()"
   ]
  },
  {
   "cell_type": "code",
   "execution_count": 3,
   "id": "18fd55ee",
   "metadata": {},
   "outputs": [
    {
     "name": "stdout",
     "output_type": "stream",
     "text": [
      "Name of Person = Priya Sakkalkar\n"
     ]
    }
   ],
   "source": [
    "class Person:\n",
    "    first_name=\"Priya \"\n",
    "    last_name=\"Sakkalkar\"\n",
    "    \n",
    "    def display_name(self):\n",
    "        print(\"Name of Person =\", self.first_name + self.last_name)\n",
    "\n",
    "# create object of Person class\n",
    "person1= Person()\n",
    "\n",
    "# access method inside class\n",
    "person1.display_name()\n"
   ]
  },
  {
   "cell_type": "markdown",
   "id": "28d5f0ae",
   "metadata": {},
   "source": [
    "5. What is the difference between class variables and instance variables in Python?\n",
    "* Answers : \n",
    "* class variables :\n",
    "\n",
    "      * Class variables are defined within the class but outside of any class methods.\t\n",
    "      * Changes made to the class variable affect all instances.\n",
    "      * Class variables can be initialized either inside the class definition or outside the class definition.\n",
    "      * Class variables are accessed using the class name, followed by the variable name.\n",
    "      * Class variables are useful for storing data that is shared among all instances of a class, such as constants or default values."
   ]
  },
  {
   "cell_type": "markdown",
   "id": "dcfd96bc",
   "metadata": {},
   "source": [
    "\n",
    "instance variables :\n",
    "\n",
    "          * Instance variables are defined within class methods, typically the constructor.\n",
    "          * Changes made to the instance variable does not affect all instances.\n",
    "          *  Instance variables are typically initialized in the constructor of the class.\n",
    "          * Instance variables are accessed using the instance name, followed by the variable name.\n",
    "          *  Instance variables are used to store data that is unique to each instance of a class, such as object properties.\n",
    "          "
   ]
  },
  {
   "cell_type": "markdown",
   "id": "0d63f034",
   "metadata": {},
   "source": [
    "6. What is the purpose of the self parameter in Python class methods?\n",
    "* Answer : SELF represents the instance of class. This handy keyword allows you to access variables, attributes, and methods of a defined class in Python. The self parameter doesn't have to be named “self,” as you can call it by any other name."
   ]
  },
  {
   "cell_type": "markdown",
   "id": "c88461bc",
   "metadata": {},
   "source": [
    "7. For a library management system, you have to design the \"Book\" class with OOP principles in mind. The “Book” class will have following attributes:\n",
    "\n",
    "    * title: Represents the title of the book.\n",
    "    * author: Represents the author(s) of the book.\n",
    "    * isbn: Represents the ISBN (International Standard Book Number) of the book.\n",
    "    * publication_year: Represents the year of publication of the book.\n",
    "    * available_copies: Represents the number of copies available for checkout.\n",
    "    \n",
    "The class will also include the following methods:\n",
    "\n",
    "    * check_out(self): Decrements the available copies by one if there are copies available for checkout.\n",
    "    * return_book(self): Increments the available copies by one when a book is returned.\n",
    "    * display_book_info(self): Displays the information about the book, including its attributes and the number of available copies."
   ]
  },
  {
   "cell_type": "code",
   "execution_count": 4,
   "id": "3e88a6e7",
   "metadata": {},
   "outputs": [],
   "source": [
    "class Book:\n",
    "    def __init__(self,title,author,isbn,publication_year,available_copies):\n",
    "        self.title=title\n",
    "        self.author=author\n",
    "        self.isbn=isbn\n",
    "        self.publication_year=publication_year\n",
    "        self.available_copies=available_copies\n",
    "    \n",
    "    def check_out(self):\n",
    "        if self.available_copies > 0:\n",
    "            self.available_copies -= 1\n",
    "            print(f'Book \"{self.title}\" checked out successfully.')\n",
    "        else:\n",
    "            print(f'Sorry, no copies of \"{self.title}\" are currently available for checkout.')\n",
    "\n",
    "    def return_book(self):\n",
    "        self.available_copies += 1\n",
    "        print(f'Book \"{self.title}\" returned successfully.')\n",
    "\n",
    "    \n",
    "    def display_book_info(self):\n",
    "        print(f'Title: {self.title}')\n",
    "        print(f'Author: {self.author}')\n",
    "        print(f'ISBN: {self.isbn}')\n",
    "        print(f'Publication Year: {self.publication_year}')\n",
    "        print(f'Available Copies: {self.available_copies}')\n",
    "\n",
    "    \n",
    "    "
   ]
  },
  {
   "cell_type": "code",
   "execution_count": 5,
   "id": "84d0c157",
   "metadata": {},
   "outputs": [],
   "source": [
    "book=Book(\"Let us python\",\"Yashvant kanetkar\",73453246778535,2003,98)"
   ]
  },
  {
   "cell_type": "code",
   "execution_count": 6,
   "id": "f8040d82",
   "metadata": {},
   "outputs": [
    {
     "name": "stdout",
     "output_type": "stream",
     "text": [
      "Book \"Let us python\" checked out successfully.\n"
     ]
    }
   ],
   "source": [
    "book.check_out()"
   ]
  },
  {
   "cell_type": "code",
   "execution_count": 7,
   "id": "5e51281c",
   "metadata": {},
   "outputs": [
    {
     "name": "stdout",
     "output_type": "stream",
     "text": [
      "Title: Let us python\n",
      "Author: Yashvant kanetkar\n",
      "ISBN: 73453246778535\n",
      "Publication Year: 2003\n",
      "Available Copies: 97\n"
     ]
    }
   ],
   "source": [
    "book.display_book_info()"
   ]
  },
  {
   "cell_type": "code",
   "execution_count": 8,
   "id": "1751879c",
   "metadata": {},
   "outputs": [
    {
     "name": "stdout",
     "output_type": "stream",
     "text": [
      "Book \"Let us python\" returned successfully.\n"
     ]
    }
   ],
   "source": [
    "book.return_book()"
   ]
  },
  {
   "cell_type": "code",
   "execution_count": 9,
   "id": "cbf4f0a1",
   "metadata": {},
   "outputs": [
    {
     "name": "stdout",
     "output_type": "stream",
     "text": [
      "Title: Let us python\n",
      "Author: Yashvant kanetkar\n",
      "ISBN: 73453246778535\n",
      "Publication Year: 2003\n",
      "Available Copies: 98\n"
     ]
    }
   ],
   "source": [
    "book.display_book_info()"
   ]
  },
  {
   "cell_type": "markdown",
   "id": "cea5b7e1",
   "metadata": {},
   "source": [
    "8. For a ticket booking system, you have to design the \"Ticket\" class with OOP principles in mind. The “Ticket” class should have the following attributes:\n",
    "\n",
    "    * ticket_id: Represents the unique identifier for the ticket.\n",
    "    * event_name: Represents the name of the event.\n",
    "    * event_date: Represents the date of the event.\n",
    "    * venue: Represents the venue of the event.\n",
    "    * seat_number: Represents the seat number associated with the ticket.\n",
    "    * price: Represents the price of the ticket.\n",
    "    * is_reserved: Represents the reservation status of the ticket.\n",
    "    \n",
    "     The class also includes the following methods:\n",
    "     \n",
    "    * reserve_ticket(self): Marks the ticket as reserved if it is not already reserved.\n",
    "    * cancel_reservation(self): Cancels the reservation of the ticket if it is already reserved.\n",
    "    * display_ticket_info(self): Displays the information about the ticket, including its\n",
    "        attributes and reservation status."
   ]
  },
  {
   "cell_type": "code",
   "execution_count": 10,
   "id": "f2ebbe61",
   "metadata": {},
   "outputs": [],
   "source": [
    "class Ticket:\n",
    "    def __init__(self,ticket_id,event_name,event_date,venue,seat_number,price,is_reserved):\n",
    "        self.ticket_id=ticket_id\n",
    "        self.event_name=event_name\n",
    "        self.event_date=event_date\n",
    "        self.venue=venue\n",
    "        self.seat_number=seat_number\n",
    "        self.price=price\n",
    "        self.is_reserved=is_reserved\n",
    "        \n",
    "    def reserve_ticket(self):\n",
    "        if self.is_reserved==\"reserved\":\n",
    "            print(\"Ticket {self.ticket_id} is already reserved\")\n",
    "        else:\n",
    "            self.is_reserved=\"reserved\"\n",
    "            print(\"Ticket {self.ticket_id} is reserved now.\")\n",
    "            \n",
    "    def cancel_reservation(self):\n",
    "        if self.is_reserved==\"reserved\":\n",
    "            self.is_reserved=\"Not Reserved\"\n",
    "            print(\"Reservation Canceled succesfully..\")\n",
    "        else:\n",
    "            print(\"Ticket {self.ticket_id} is not reserved\")\n",
    "            \n",
    "    def display_ticket_info(self):\n",
    "            print(f'ticket_id: {self.ticket_id}')\n",
    "            print(f'event_name: {self.event_name}')\n",
    "            print(f'event_date: {self.event_date}')\n",
    "            print(f'venue of the event: {self.venue}')\n",
    "            print(f'seat number : {self.seat_number}')\n",
    "            print(f'Price : {self.price}')\n",
    "            print(f'Status of ticket : {self.is_reserved}')\n",
    "\n",
    "\n",
    "ticket1=Ticket(1001,\"Movie\",11/28/2021,\"INOX Prozone Mall\",\"E8\",250,\"reserved\")        "
   ]
  },
  {
   "cell_type": "code",
   "execution_count": 11,
   "id": "99172d47",
   "metadata": {},
   "outputs": [
    {
     "name": "stdout",
     "output_type": "stream",
     "text": [
      "Ticket {self.ticket_id} is already reserved\n"
     ]
    }
   ],
   "source": [
    "ticket1.reserve_ticket()"
   ]
  },
  {
   "cell_type": "code",
   "execution_count": 12,
   "id": "c9ff7cff",
   "metadata": {},
   "outputs": [
    {
     "name": "stdout",
     "output_type": "stream",
     "text": [
      "ticket_id: 1001\n",
      "event_name: Movie\n",
      "event_date: 0.00019438750265073868\n",
      "venue of the event: INOX Prozone Mall\n",
      "seat number : E8\n",
      "Price : 250\n",
      "Status of ticket : reserved\n"
     ]
    }
   ],
   "source": [
    "ticket1.display_ticket_info()"
   ]
  },
  {
   "cell_type": "code",
   "execution_count": 13,
   "id": "7c25e211",
   "metadata": {},
   "outputs": [
    {
     "name": "stdout",
     "output_type": "stream",
     "text": [
      "Reservation Canceled succesfully..\n"
     ]
    }
   ],
   "source": [
    "ticket1.cancel_reservation()"
   ]
  },
  {
   "cell_type": "code",
   "execution_count": 14,
   "id": "5b002725",
   "metadata": {},
   "outputs": [
    {
     "name": "stdout",
     "output_type": "stream",
     "text": [
      "ticket_id: 1001\n",
      "event_name: Movie\n",
      "event_date: 0.00019438750265073868\n",
      "venue of the event: INOX Prozone Mall\n",
      "seat number : E8\n",
      "Price : 250\n",
      "Status of ticket : Not Reserved\n"
     ]
    }
   ],
   "source": [
    "ticket1.display_ticket_info()"
   ]
  },
  {
   "cell_type": "markdown",
   "id": "557f9947",
   "metadata": {},
   "source": [
    "9. You are creating a shopping cart for an e-commerce website. Using OOP to model the \"ShoppingCart\" functionality the class should contain following attributes and methods:\n",
    "\n",
    "    * items: Represents the list of items in the shopping cart.\n",
    "    \n",
    "    The class also includes the following methods:\n",
    "    \n",
    "    * add_item(self, item): Adds an item to the shopping cart by appending it to the list of items.\n",
    "    * remove_item(self, item): Removes an item from the shopping cart if it exists i the list.\n",
    "    * view_cart(self): Displays the items currently present in the shopping cart.\n",
    "    * clear_cart(self): Clears all items from the shopping cart by reassigning an empty list to the items attribute.    "
   ]
  },
  {
   "cell_type": "code",
   "execution_count": 15,
   "id": "0ea398e7",
   "metadata": {},
   "outputs": [],
   "source": [
    "class ShoppingCart:\n",
    "    def __init__(self):\n",
    "        self.item_list=[]\n",
    "        \n",
    "    def add_item(self, item):\n",
    "        self.item_list.append(item)\n",
    "        print(\"Item added succesfully\")\n",
    "        \n",
    "    def remove_item(self, item): \n",
    "        if item in self.item_list:\n",
    "            self.item_list.remove(item)\n",
    "            print(f\" {item}  removed from shopping cart.\")\n",
    "        else:\n",
    "            print(\"item is not in your cart\")\n",
    "    \n",
    "    def view_cart(self):\n",
    "        if not self.item_list:\n",
    "                 print(\"The shopping cart is empty.\")\n",
    "        else:\n",
    "                 for item in self.item_list:\n",
    "                    print(item)\n",
    "            \n",
    "    def clear_cart(self):\n",
    "        self.item_list=[]\n"
   ]
  },
  {
   "cell_type": "code",
   "execution_count": 16,
   "id": "7c46e4f8",
   "metadata": {},
   "outputs": [],
   "source": [
    "cart=ShoppingCart()"
   ]
  },
  {
   "cell_type": "code",
   "execution_count": 17,
   "id": "f767053e",
   "metadata": {},
   "outputs": [
    {
     "name": "stdout",
     "output_type": "stream",
     "text": [
      "Item added succesfully\n",
      "Item added succesfully\n",
      "Item added succesfully\n",
      "Item added succesfully\n"
     ]
    }
   ],
   "source": [
    "cart.add_item(\"Iphone\")\n",
    "cart.add_item(\"Lightning cable\")\n",
    "cart.add_item(\"XBOX controller\")\n",
    "cart.add_item(\"Headphones\")"
   ]
  },
  {
   "cell_type": "code",
   "execution_count": 18,
   "id": "d9d07613",
   "metadata": {},
   "outputs": [
    {
     "name": "stdout",
     "output_type": "stream",
     "text": [
      "Iphone\n",
      "Lightning cable\n",
      "XBOX controller\n",
      "Headphones\n"
     ]
    }
   ],
   "source": [
    "cart.view_cart()"
   ]
  },
  {
   "cell_type": "code",
   "execution_count": 19,
   "id": "fde5b0be",
   "metadata": {},
   "outputs": [
    {
     "name": "stdout",
     "output_type": "stream",
     "text": [
      " XBOX controller  removed from shopping cart.\n"
     ]
    }
   ],
   "source": [
    "cart.remove_item(\"XBOX controller\")"
   ]
  },
  {
   "cell_type": "code",
   "execution_count": 20,
   "id": "133d9512",
   "metadata": {},
   "outputs": [
    {
     "name": "stdout",
     "output_type": "stream",
     "text": [
      "Iphone\n",
      "Lightning cable\n",
      "Headphones\n"
     ]
    }
   ],
   "source": [
    "cart.view_cart()"
   ]
  },
  {
   "cell_type": "code",
   "execution_count": 21,
   "id": "6095de6e",
   "metadata": {},
   "outputs": [],
   "source": [
    "cart.clear_cart()"
   ]
  },
  {
   "cell_type": "code",
   "execution_count": 22,
   "id": "8d23ab6a",
   "metadata": {},
   "outputs": [
    {
     "name": "stdout",
     "output_type": "stream",
     "text": [
      "The shopping cart is empty.\n"
     ]
    }
   ],
   "source": [
    "cart.view_cart()"
   ]
  },
  {
   "cell_type": "markdown",
   "id": "5f71d552",
   "metadata": {},
   "source": [
    "10. Imagine a school management system. You have to design the \"Student\" class using OOP concepts.The “Student” class has the following attributes:\n",
    " \n",
    "    * name: Represents the name of the student.\n",
    "    * age: Represents the age of the student.\n",
    "    * grade: Represents the grade or class of the student.\n",
    "    * student_id: Represents the unique identifier for the student.\n",
    "    * attendance: Represents the attendance record of the student.\n",
    "    \n",
    "    The class should also include the following methods:\n",
    "    \n",
    "    * update_attendance(self, date, status): Updates the attendance record of the student for a given date with the provided         status (e.g., present or absent).\n",
    "    * get_attendance(self): Returns the attendance record of the student.\n",
    "    * get_average_attendance(self): Calculates and returns the average\n",
    "       attendance percentage of the student based on their attendance record.\n"
   ]
  },
  {
   "cell_type": "code",
   "execution_count": 23,
   "id": "2ebf1b46",
   "metadata": {},
   "outputs": [],
   "source": [
    "class Student:\n",
    "    def __init__(self,name,age,grade,student_id):\n",
    "        self.name=name\n",
    "        self.age=age\n",
    "        self.grade=grade\n",
    "        self.student_id=student_id\n",
    "        self.attendance={}\n",
    "        \n",
    "    def update_attendance(self, date, status):\n",
    "        if status.lower() in ['present', 'absent']:\n",
    "            self.attendance[date] = status.lower()\n",
    "            print(f\"Attendance for {self.name} on {date} updated: {status.capitalize()}.\")\n",
    "        else:\n",
    "            print(\"Invalid attendance status. Please use 'present' or 'absent'.\")\n",
    "\n",
    "    def get_attendance(self):\n",
    "        return self.attendance\n",
    "\n",
    "    def get_average_attendance(self):\n",
    "        total_days = len(self.attendance)\n",
    "        present_days = list(self.attendance.values()).count('present')\n",
    "        average_percentage = (present_days / total_days) * 100\n",
    "        print(average_percentage)\n"
   ]
  },
  {
   "cell_type": "code",
   "execution_count": 24,
   "id": "a407bd2b",
   "metadata": {},
   "outputs": [],
   "source": [
    "student1=Student(\"Alphonse\",17,\"12th\",281)"
   ]
  },
  {
   "cell_type": "code",
   "execution_count": 25,
   "id": "6bc119ba",
   "metadata": {},
   "outputs": [
    {
     "name": "stdout",
     "output_type": "stream",
     "text": [
      "Attendance for Alphonse on 11/14/2023 updated: Present.\n",
      "Attendance for Alphonse on 11/15/2023 updated: Absent.\n",
      "Attendance for Alphonse on 11/16/2023 updated: Present.\n"
     ]
    }
   ],
   "source": [
    "student1.update_attendance(\"11/14/2023\",\"present\")\n",
    "student1.update_attendance(\"11/15/2023\",\"absent\")\n",
    "student1.update_attendance(\"11/16/2023\",\"present\")"
   ]
  },
  {
   "cell_type": "code",
   "execution_count": 26,
   "id": "131e236b",
   "metadata": {},
   "outputs": [
    {
     "data": {
      "text/plain": [
       "{'11/14/2023': 'present', '11/15/2023': 'absent', '11/16/2023': 'present'}"
      ]
     },
     "execution_count": 26,
     "metadata": {},
     "output_type": "execute_result"
    }
   ],
   "source": [
    "student1.get_attendance()"
   ]
  },
  {
   "cell_type": "code",
   "execution_count": 27,
   "id": "103a66a2",
   "metadata": {},
   "outputs": [
    {
     "name": "stdout",
     "output_type": "stream",
     "text": [
      "66.66666666666666\n"
     ]
    }
   ],
   "source": [
    "student1.get_average_attendance()"
   ]
  }
 ],
 "metadata": {
  "kernelspec": {
   "display_name": "Python 3 (ipykernel)",
   "language": "python",
   "name": "python3"
  },
  "language_info": {
   "codemirror_mode": {
    "name": "ipython",
    "version": 3
   },
   "file_extension": ".py",
   "mimetype": "text/x-python",
   "name": "python",
   "nbconvert_exporter": "python",
   "pygments_lexer": "ipython3",
   "version": "3.11.5"
  }
 },
 "nbformat": 4,
 "nbformat_minor": 5
}
