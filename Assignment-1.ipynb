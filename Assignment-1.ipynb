{
 "cells": [
  {
   "cell_type": "markdown",
   "id": "5430d573",
   "metadata": {},
   "source": [
    "1. In the below elements which of them are values or an expression? eg:- values can be\n",
    "integer or string and expressions will be mathematical operators.\n",
    "\n",
    "* Answer :\n",
    "* '*' ==> Expression\n",
    "* 'hello' ==> Value\n",
    "* -87.8 ==> Value\n",
    "* '-'  ==> Expression\n",
    "* / ==> Expression\n",
    "* '+' ==> Expression\n",
    "* 6 ==> Value\n",
    "\n",
    "\n"
   ]
  },
  {
   "cell_type": "markdown",
   "id": "011b7f5d",
   "metadata": {},
   "source": [
    "2. what is the difference between string and variable?\n",
    "\n",
    "* Answer: String is a datatype and variable is used to store data in it.\n",
    "Example : a = 'hello' \n",
    "* Here, 'a' is a variable and 'hello' is a string stored in a variable "
   ]
  },
  {
   "cell_type": "markdown",
   "id": "ab43b71f",
   "metadata": {},
   "source": [
    "3. Describe three different data types\n",
    "Answer: \n",
    "* String(str) --> One or more characters described in a single,double or triple quotes --> Example: \"hello\"\n",
    "* Integer(int) --> positive or negative whole numbers --> Example: 1\n",
    "* List(list) --> ordered collection of data which is placed inside square brackets --> Example: [1,2,3] "
   ]
  },
  {
   "cell_type": "code",
   "execution_count": 11,
   "id": "80a0dde9",
   "metadata": {},
   "outputs": [
    {
     "name": "stdout",
     "output_type": "stream",
     "text": [
      "<class 'str'>\n",
      "<class 'float'>\n",
      "<class 'list'>\n"
     ]
    }
   ],
   "source": [
    "a = 'hello'\n",
    "b = 1.23\n",
    "c = [1,2,3]\n",
    "print(type(a))\n",
    "print(type(b))\n",
    "print(type(c))"
   ]
  },
  {
   "cell_type": "markdown",
   "id": "fc03f5b1",
   "metadata": {},
   "source": [
    "4. What is an expression made up of? What do all expressions do?\n",
    "* Answer : An expression is a combination of values, variables,mathematical operators, operands which returns a value. All expressions represent a value."
   ]
  },
  {
   "cell_type": "markdown",
   "id": "3697f700",
   "metadata": {},
   "source": [
    "5. This assignment statements, like spam = 10. What is the difference between an\n",
    "expression and a statement?\n",
    "* Answer : Statements are used to create a variable or to perform a certain task whereas, an expression is a combination of values, variables,mathematical operators, operands which returns a value."
   ]
  },
  {
   "cell_type": "markdown",
   "id": "cc7fa741",
   "metadata": {},
   "source": [
    "6. After running the following code, what does the variable bacon contain?\n",
    "* bacon = 22\n",
    "* bacon + 1\n",
    "* Answer : bacon stays with same value of 22. This is because, after declaring a variable 'bacon' with a value of 22, we didn't assign any variable to perform the expression 'bacon + 1'. So, bacon stays with the same value"
   ]
  },
  {
   "cell_type": "code",
   "execution_count": 17,
   "id": "a32175d2",
   "metadata": {},
   "outputs": [],
   "source": [
    "bacon =22"
   ]
  },
  {
   "cell_type": "code",
   "execution_count": 18,
   "id": "22c7b8ae",
   "metadata": {},
   "outputs": [
    {
     "data": {
      "text/plain": [
       "23"
      ]
     },
     "execution_count": 18,
     "metadata": {},
     "output_type": "execute_result"
    }
   ],
   "source": [
    "bacon+1"
   ]
  },
  {
   "cell_type": "code",
   "execution_count": 19,
   "id": "ee3727e9",
   "metadata": {},
   "outputs": [
    {
     "data": {
      "text/plain": [
       "22"
      ]
     },
     "execution_count": 19,
     "metadata": {},
     "output_type": "execute_result"
    }
   ],
   "source": [
    "bacon"
   ]
  },
  {
   "cell_type": "markdown",
   "id": "9e35859e",
   "metadata": {},
   "source": [
    "7. What should the values of the following two terms be?\n",
    "* 'spam' + 'spamspam'\n",
    "* 'spam' * 3\n",
    "* Answer :\n",
    "* 'spam' + 'spamspam' = 'spamspamspam'\n",
    "* 'spam' * 3 = 'spamspamspam'"
   ]
  },
  {
   "cell_type": "code",
   "execution_count": 14,
   "id": "d69f44ba",
   "metadata": {},
   "outputs": [
    {
     "data": {
      "text/plain": [
       "'spamspamspam'"
      ]
     },
     "execution_count": 14,
     "metadata": {},
     "output_type": "execute_result"
    }
   ],
   "source": [
    "'spam'+'spamspam'"
   ]
  },
  {
   "cell_type": "code",
   "execution_count": 15,
   "id": "3e403105",
   "metadata": {},
   "outputs": [
    {
     "data": {
      "text/plain": [
       "'spamspamspam'"
      ]
     },
     "execution_count": 15,
     "metadata": {},
     "output_type": "execute_result"
    }
   ],
   "source": [
    "'spam'*3"
   ]
  },
  {
   "cell_type": "markdown",
   "id": "3a9487d6",
   "metadata": {},
   "source": [
    "8. Why is eggs a valid variable name while 100 is invalid?\n",
    "* Answer : eggs is a valid variable name and 100 is invalid because as per the naming conventions, a variable name must start with a letter or a underscore character and should not start with a number. Also, a variable name should contain only alpha-numeric characters."
   ]
  },
  {
   "cell_type": "markdown",
   "id": "1a41a390",
   "metadata": {},
   "source": [
    "9. What three functions can be used to get the integer, floating-point number, or string\n",
    "version of a value?\n",
    "* Answer : int(), float(), str() can be used to get the integer, floating point number or string version of a value respectively"
   ]
  },
  {
   "cell_type": "code",
   "execution_count": 13,
   "id": "934d1d2e",
   "metadata": {},
   "outputs": [
    {
     "name": "stdout",
     "output_type": "stream",
     "text": [
      "5\n",
      "5.0\n",
      "5\n"
     ]
    }
   ],
   "source": [
    "print(int(5))\n",
    "print(float(5))\n",
    "print(str(5))"
   ]
  },
  {
   "cell_type": "markdown",
   "id": "42091b1f",
   "metadata": {},
   "source": [
    "10. Why does this expression cause an error? How can you fix it? 'I have eaten' + 99 + 'burritos'\n",
    "* Answer : We cannot concatenate an integer to string. 99 is an integer so, this expression causes an error.  "
   ]
  },
  {
   "cell_type": "code",
   "execution_count": 16,
   "id": "e19985f9",
   "metadata": {},
   "outputs": [
    {
     "ename": "TypeError",
     "evalue": "can only concatenate str (not \"int\") to str",
     "output_type": "error",
     "traceback": [
      "\u001b[1;31m---------------------------------------------------------------------------\u001b[0m",
      "\u001b[1;31mTypeError\u001b[0m                                 Traceback (most recent call last)",
      "Cell \u001b[1;32mIn[16], line 1\u001b[0m\n\u001b[1;32m----> 1\u001b[0m \u001b[38;5;124m'\u001b[39m\u001b[38;5;124mI have eaten\u001b[39m\u001b[38;5;124m'\u001b[39m\u001b[38;5;241m+\u001b[39m\u001b[38;5;241m99\u001b[39m\u001b[38;5;241m+\u001b[39m\u001b[38;5;124m'\u001b[39m\u001b[38;5;124mburritos\u001b[39m\u001b[38;5;124m'\u001b[39m\n",
      "\u001b[1;31mTypeError\u001b[0m: can only concatenate str (not \"int\") to str"
     ]
    }
   ],
   "source": [
    "'I have eaten'+99+'burritos'"
   ]
  }
 ],
 "metadata": {
  "kernelspec": {
   "display_name": "Python 3 (ipykernel)",
   "language": "python",
   "name": "python3"
  },
  "language_info": {
   "codemirror_mode": {
    "name": "ipython",
    "version": 3
   },
   "file_extension": ".py",
   "mimetype": "text/x-python",
   "name": "python",
   "nbconvert_exporter": "python",
   "pygments_lexer": "ipython3",
   "version": "3.11.5"
  }
 },
 "nbformat": 4,
 "nbformat_minor": 5
}
