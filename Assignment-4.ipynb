{
 "cells": [
  {
   "cell_type": "markdown",
   "id": "89800973",
   "metadata": {},
   "source": [
    "Assignment-4"
   ]
  },
  {
   "cell_type": "markdown",
   "id": "7f9a769e",
   "metadata": {},
   "source": [
    "1. What exactly is []?\n",
    "* Answer : [] represents an empty list"
   ]
  },
  {
   "cell_type": "markdown",
   "id": "6b83aed9",
   "metadata": {},
   "source": [
    "2. In a list of values stored in a variable called spam, how would you assign the value 'hello' as the third value? (Assume [2,4,6,8,10] are in spam)"
   ]
  },
  {
   "cell_type": "code",
   "execution_count": 1,
   "id": "d635eb1f",
   "metadata": {},
   "outputs": [
    {
     "name": "stdout",
     "output_type": "stream",
     "text": [
      "[2, 4, 'hello', 8, 10]\n"
     ]
    }
   ],
   "source": [
    "spam = [2,4,6,8,10]\n",
    "spam[2] = 'hello'\n",
    "print(spam)"
   ]
  },
  {
   "cell_type": "code",
   "execution_count": 6,
   "id": "7ae4aa0e",
   "metadata": {},
   "outputs": [],
   "source": [
    "spam = ['a','b','c','d']"
   ]
  },
  {
   "cell_type": "markdown",
   "id": "5ff0df02",
   "metadata": {},
   "source": [
    "3. What is the value of spam[int(int('3' * 2)/11)]?"
   ]
  },
  {
   "cell_type": "code",
   "execution_count": 7,
   "id": "b5587815",
   "metadata": {},
   "outputs": [
    {
     "data": {
      "text/plain": [
       "'d'"
      ]
     },
     "execution_count": 7,
     "metadata": {},
     "output_type": "execute_result"
    }
   ],
   "source": [
    "spam[int(int('3'*2)/11)]"
   ]
  },
  {
   "cell_type": "markdown",
   "id": "c2318e6e",
   "metadata": {},
   "source": [
    "4. What is the value of spam[-1]?\n"
   ]
  },
  {
   "cell_type": "code",
   "execution_count": 8,
   "id": "b9c56d0f",
   "metadata": {},
   "outputs": [
    {
     "data": {
      "text/plain": [
       "'d'"
      ]
     },
     "execution_count": 8,
     "metadata": {},
     "output_type": "execute_result"
    }
   ],
   "source": [
    "spam[-1]"
   ]
  },
  {
   "cell_type": "markdown",
   "id": "486863ab",
   "metadata": {},
   "source": [
    "5. What is the value of spam[:2]?"
   ]
  },
  {
   "cell_type": "code",
   "execution_count": 9,
   "id": "865aa9a3",
   "metadata": {},
   "outputs": [
    {
     "data": {
      "text/plain": [
       "['a', 'b']"
      ]
     },
     "execution_count": 9,
     "metadata": {},
     "output_type": "execute_result"
    }
   ],
   "source": [
    "spam[:2]"
   ]
  },
  {
   "cell_type": "code",
   "execution_count": 11,
   "id": "8a777ad5",
   "metadata": {},
   "outputs": [],
   "source": [
    "bacon = [3.14,'cat',11,'cat',True]"
   ]
  },
  {
   "cell_type": "markdown",
   "id": "b8573dbb",
   "metadata": {},
   "source": [
    "6. What is the value of bacon.index('cat')?"
   ]
  },
  {
   "cell_type": "code",
   "execution_count": 12,
   "id": "83b6a9b6",
   "metadata": {},
   "outputs": [
    {
     "data": {
      "text/plain": [
       "1"
      ]
     },
     "execution_count": 12,
     "metadata": {},
     "output_type": "execute_result"
    }
   ],
   "source": [
    "bacon.index('cat')"
   ]
  },
  {
   "cell_type": "markdown",
   "id": "5caef64e",
   "metadata": {},
   "source": [
    "7. How does bacon.append(99) change the look of the list value in bacon?\n",
    "* Answer : '.append()' method is used to add elements to the end of the list."
   ]
  },
  {
   "cell_type": "code",
   "execution_count": 20,
   "id": "6b7feca0",
   "metadata": {},
   "outputs": [
    {
     "data": {
      "text/plain": [
       "[3.14, 'cat', 11, 'cat', True, 99]"
      ]
     },
     "execution_count": 20,
     "metadata": {},
     "output_type": "execute_result"
    }
   ],
   "source": [
    "bacon.append(99)\n",
    "bacon"
   ]
  },
  {
   "cell_type": "markdown",
   "id": "ea2ee7e2",
   "metadata": {},
   "source": [
    "8. How does bacon.remove('cat') change the look of the list in the bacon?\n",
    "* Answer : '.remove()' method removes the first occurance of the given element in the list. "
   ]
  },
  {
   "cell_type": "code",
   "execution_count": 21,
   "id": "d68cb81d",
   "metadata": {},
   "outputs": [],
   "source": [
    "bacon.remove('cat')"
   ]
  },
  {
   "cell_type": "code",
   "execution_count": 22,
   "id": "92456412",
   "metadata": {},
   "outputs": [
    {
     "data": {
      "text/plain": [
       "[3.14, 11, 'cat', True, 99]"
      ]
     },
     "execution_count": 22,
     "metadata": {},
     "output_type": "execute_result"
    }
   ],
   "source": [
    "bacon"
   ]
  },
  {
   "cell_type": "markdown",
   "id": "fa6db75c",
   "metadata": {},
   "source": [
    "9. What are the list concatenation and list replication operations?\n",
    "* Answer : list concatenation operator is '+' and the list replication operator is '*'"
   ]
  },
  {
   "cell_type": "code",
   "execution_count": 24,
   "id": "668cd472",
   "metadata": {},
   "outputs": [
    {
     "name": "stdout",
     "output_type": "stream",
     "text": [
      "[1, 2, 3, 4, 5, 6]\n",
      "[4, 5, 6, 4, 5, 6]\n"
     ]
    }
   ],
   "source": [
    "a = [1,2,3]\n",
    "b = [4,5,6]\n",
    "a = a + b\n",
    "b = b * 2\n",
    "print(a)\n",
    "print(b)"
   ]
  },
  {
   "cell_type": "markdown",
   "id": "0fb900c1",
   "metadata": {},
   "source": [
    "10. What is the difference between the list methods append() and insert()?\n",
    "* Answer : append() method takes the element to be inserted as a parameter and appends the element at the end of the list while insert() method takes element and the index where the element should be inserted as parameters and inserts at the given index"
   ]
  },
  {
   "cell_type": "markdown",
   "id": "af1a1352",
   "metadata": {},
   "source": [
    "11. What are the two methods for removing items from a list?\n",
    "* Answer : 'pop' and 'remove' are the two methods for removing items from a list"
   ]
  },
  {
   "cell_type": "code",
   "execution_count": 51,
   "id": "65eedcc8",
   "metadata": {},
   "outputs": [
    {
     "name": "stdout",
     "output_type": "stream",
     "text": [
      "[1, 2, 3, 4]\n",
      "[2, 3, 4]\n",
      "[2, 3]\n"
     ]
    }
   ],
   "source": [
    "v = [1,2,3,4]\n",
    "print(v)\n",
    "v.remove(1)\n",
    "print(v)\n",
    "v.pop(-1)\n",
    "print(v)"
   ]
  },
  {
   "cell_type": "markdown",
   "id": "4d8b47fe",
   "metadata": {},
   "source": [
    "12. Describe how list values and string values are identical?\n",
    "* Answer : We can use both list values and the string values in a for loop and iterate, we can slice them and we can do operations like concatenation, replication on both list values and string values."
   ]
  },
  {
   "cell_type": "markdown",
   "id": "848f67af",
   "metadata": {},
   "source": [
    "13. What is the difference between lists and tuples?\n",
    "* Answer : Lists are defined with [] and tuples are defined (). List is mutable but tuple is immutable."
   ]
  },
  {
   "cell_type": "markdown",
   "id": "fec71ffb",
   "metadata": {},
   "source": [
    "14. How do you type a tuple value that only contains the integer 42?"
   ]
  },
  {
   "cell_type": "code",
   "execution_count": 58,
   "id": "2fa55745",
   "metadata": {},
   "outputs": [
    {
     "name": "stdout",
     "output_type": "stream",
     "text": [
      "<class 'tuple'>\n"
     ]
    }
   ],
   "source": [
    "a = tuple([42])\n",
    "print(type(a))"
   ]
  },
  {
   "cell_type": "markdown",
   "id": "d741314e",
   "metadata": {},
   "source": [
    "15. How do you get a list value's tuple form? How do you get a tuple value's list form?\n",
    "Answer : We can do this by using typecasting."
   ]
  },
  {
   "cell_type": "code",
   "execution_count": 62,
   "id": "6738314d",
   "metadata": {},
   "outputs": [
    {
     "name": "stdout",
     "output_type": "stream",
     "text": [
      "<class 'list'>\n",
      "<class 'tuple'>\n",
      "(1, 2, 3)\n",
      "<class 'tuple'>\n",
      "[4, 5, 6]\n",
      "<class 'list'>\n"
     ]
    }
   ],
   "source": [
    "a = [1,2,3]\n",
    "b = (4,5,6)\n",
    "print(type(a))\n",
    "print(type(b))\n",
    "c = tuple(a)\n",
    "d = list(b)\n",
    "print(c)\n",
    "print(type(c))\n",
    "print(d)\n",
    "print(type(d))"
   ]
  },
  {
   "cell_type": "markdown",
   "id": "9be52fcb",
   "metadata": {},
   "source": [
    "16. Variables that 'contain' list values are not necessarily lists themselves. Instead, what do they contain?\n",
    "* Answer : They contain references to list values"
   ]
  },
  {
   "cell_type": "markdown",
   "id": "e0f91b7f",
   "metadata": {},
   "source": [
    "17. How do you distinguish between copy.copy() and copy.deepcopy()?\n",
    "* Answer : copy.copy() returns shallow copy of the list and copy.deepcopy() returns deep copy of the list which is "
   ]
  },
  {
   "cell_type": "code",
   "execution_count": null,
   "id": "b38f280f",
   "metadata": {},
   "outputs": [],
   "source": []
  },
  {
   "cell_type": "code",
   "execution_count": null,
   "id": "d53d8daa",
   "metadata": {},
   "outputs": [],
   "source": []
  }
 ],
 "metadata": {
  "kernelspec": {
   "display_name": "Python 3 (ipykernel)",
   "language": "python",
   "name": "python3"
  },
  "language_info": {
   "codemirror_mode": {
    "name": "ipython",
    "version": 3
   },
   "file_extension": ".py",
   "mimetype": "text/x-python",
   "name": "python",
   "nbconvert_exporter": "python",
   "pygments_lexer": "ipython3",
   "version": "3.11.5"
  }
 },
 "nbformat": 4,
 "nbformat_minor": 5
}
