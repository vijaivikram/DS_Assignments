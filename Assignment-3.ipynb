{
 "cells": [
  {
   "cell_type": "markdown",
   "id": "538d0b48",
   "metadata": {},
   "source": [
    "Assignment-3"
   ]
  },
  {
   "cell_type": "markdown",
   "id": "7f5f9c09",
   "metadata": {},
   "source": [
    "1. Why are functions advantageous to have in your programs?\n",
    "* Answer : Functions are advantageous because it helps in reusability of the code. This makes the code with no duplication and shorter and also easier to read. "
   ]
  },
  {
   "cell_type": "markdown",
   "id": "0efdf425",
   "metadata": {},
   "source": [
    "2. When does the code in a function run: when it's specified or when it's called?\n",
    "* Answer : The code in a function will run when it is called."
   ]
  },
  {
   "cell_type": "markdown",
   "id": "633097d4",
   "metadata": {},
   "source": [
    "3. What statement creates a function?\n",
    "* Answer : 'def' keyword is used to define a function"
   ]
  },
  {
   "cell_type": "code",
   "execution_count": 1,
   "id": "c8f3fe6d",
   "metadata": {},
   "outputs": [],
   "source": [
    "def func(a):\n",
    "    print(a)"
   ]
  },
  {
   "cell_type": "markdown",
   "id": "0155c299",
   "metadata": {},
   "source": [
    "4. What is the difference between a function and a function call?\n",
    "* Answer : Function is a block of code which performs a specific task whereas, function call is calling the defined function with its name in any part of the program to do a specific task."
   ]
  },
  {
   "cell_type": "markdown",
   "id": "34775816",
   "metadata": {},
   "source": [
    "5. How many global scopes are there in a python program? How many are local scopes?\n",
    "* Answer : There is only one global scope and a local scope is created whenever a function is called. "
   ]
  },
  {
   "cell_type": "markdown",
   "id": "6a24d043",
   "metadata": {},
   "source": [
    "6. What happens to variables in a local scope when the function call returns?\n",
    "* Answer : The variables are destroyed when the function call returns."
   ]
  },
  {
   "cell_type": "markdown",
   "id": "e124894f",
   "metadata": {},
   "source": [
    "7. What is the concept of return value? Is it possible to have a return value in an expression?\n",
    "* Answer : return value is a value which will be returned at the end of a function execution if mentioned. It is possible to have a return value in an expression. "
   ]
  },
  {
   "cell_type": "code",
   "execution_count": 5,
   "id": "1e7bb72b",
   "metadata": {},
   "outputs": [],
   "source": [
    "def add(a,b):\n",
    "    print('sum is',a+b)\n",
    "    return a+b"
   ]
  },
  {
   "cell_type": "code",
   "execution_count": 6,
   "id": "3466b455",
   "metadata": {},
   "outputs": [
    {
     "name": "stdout",
     "output_type": "stream",
     "text": [
      "sum is 3\n"
     ]
    },
    {
     "data": {
      "text/plain": [
       "3"
      ]
     },
     "execution_count": 6,
     "metadata": {},
     "output_type": "execute_result"
    }
   ],
   "source": [
    "add(1,2)"
   ]
  },
  {
   "cell_type": "markdown",
   "id": "52e51c98",
   "metadata": {},
   "source": [
    "8. If a function does not have a return statement, what is the return value of that call to that function?\n",
    "* Answer : The return value will be None if a function does not have a return statement."
   ]
  },
  {
   "cell_type": "markdown",
   "id": "a8521be7",
   "metadata": {},
   "source": [
    "9. How do you make a function variable refer to the global variable?\n",
    "* Answer : We can make a function variable refer to global variable after declaring that particular variable with 'global' keyword"
   ]
  },
  {
   "cell_type": "markdown",
   "id": "8ccda3b5",
   "metadata": {},
   "source": [
    "10. What is the datatype of None?\n",
    "* Answer : None is a datatype of class NoneType"
   ]
  },
  {
   "cell_type": "markdown",
   "id": "6049ca5b",
   "metadata": {},
   "source": [
    "11. What does the sentence import areallyourpetsnamederic do?\n",
    "* Answer : It will import the package 'areallyourpetsnamederic'"
   ]
  },
  {
   "cell_type": "markdown",
   "id": "401c0735",
   "metadata": {},
   "source": [
    "12. If you had a bacon() feature in a spam module, what would you call it after importing spam?\n",
    "* Answer : We can call it by spam.bacon()"
   ]
  },
  {
   "cell_type": "markdown",
   "id": "802e27e0",
   "metadata": {},
   "source": [
    "13. What can you do to save a programme from crashing if it encounters an error?\n",
    "* Answer : We can use try and except. we should place the code which might throw an error under try and can use except to handle the error."
   ]
  },
  {
   "cell_type": "markdown",
   "id": "ddb3c5f6",
   "metadata": {},
   "source": [
    "14. What is the purpose of the try clause? What is the purpose of the exept clause?\n",
    "* Answer : We can place the code which might throw an error under the try clause and we can use the except clause to handle the errors."
   ]
  }
 ],
 "metadata": {
  "kernelspec": {
   "display_name": "Python 3 (ipykernel)",
   "language": "python",
   "name": "python3"
  },
  "language_info": {
   "codemirror_mode": {
    "name": "ipython",
    "version": 3
   },
   "file_extension": ".py",
   "mimetype": "text/x-python",
   "name": "python",
   "nbconvert_exporter": "python",
   "pygments_lexer": "ipython3",
   "version": "3.11.5"
  }
 },
 "nbformat": 4,
 "nbformat_minor": 5
}
