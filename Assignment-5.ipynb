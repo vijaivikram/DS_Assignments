{
 "cells": [
  {
   "cell_type": "markdown",
   "id": "3a2ccb73",
   "metadata": {},
   "source": [
    "Assignment-5"
   ]
  },
  {
   "cell_type": "markdown",
   "id": "16e1c42e",
   "metadata": {},
   "source": [
    "1. What does an empty dictionary's code look like?\n",
    "* Answer : dictionary is defined with {} or dict()"
   ]
  },
  {
   "cell_type": "code",
   "execution_count": 1,
   "id": "a694de3e",
   "metadata": {},
   "outputs": [
    {
     "name": "stdout",
     "output_type": "stream",
     "text": [
      "<class 'dict'>\n"
     ]
    }
   ],
   "source": [
    "a = {}\n",
    "print(type(a))"
   ]
  },
  {
   "cell_type": "markdown",
   "id": "462f9f00",
   "metadata": {},
   "source": [
    "2. What is the value of dictionary value with key 'foo' and the value 42?"
   ]
  },
  {
   "cell_type": "code",
   "execution_count": null,
   "id": "a818bdbd",
   "metadata": {},
   "outputs": [],
   "source": [
    "a = {'foo':42}"
   ]
  },
  {
   "cell_type": "markdown",
   "id": "271483a6",
   "metadata": {},
   "source": [
    "3. WHat is the most significant distinction between a dictionary and a list?\n",
    "* Answer : The items in the dictionary are uordered while the items in the list are ordered. The list is defined with () and the dictionary is defined with {}"
   ]
  },
  {
   "cell_type": "markdown",
   "id": "79e909e4",
   "metadata": {},
   "source": [
    "4. What happens if you try to access spam['foo'] if spam is {'bar':100}?\n",
    "* Answer : Keyerror will be thrown by the program."
   ]
  },
  {
   "cell_type": "code",
   "execution_count": 4,
   "id": "526f5247",
   "metadata": {},
   "outputs": [
    {
     "ename": "KeyError",
     "evalue": "'foo'",
     "output_type": "error",
     "traceback": [
      "\u001b[1;31m---------------------------------------------------------------------------\u001b[0m",
      "\u001b[1;31mKeyError\u001b[0m                                  Traceback (most recent call last)",
      "Cell \u001b[1;32mIn[4], line 2\u001b[0m\n\u001b[0;32m      1\u001b[0m spam \u001b[38;5;241m=\u001b[39m {\u001b[38;5;124m'\u001b[39m\u001b[38;5;124mbar\u001b[39m\u001b[38;5;124m'\u001b[39m:\u001b[38;5;241m100\u001b[39m}\n\u001b[1;32m----> 2\u001b[0m \u001b[38;5;28mprint\u001b[39m(spam[\u001b[38;5;124m'\u001b[39m\u001b[38;5;124mfoo\u001b[39m\u001b[38;5;124m'\u001b[39m])\n",
      "\u001b[1;31mKeyError\u001b[0m: 'foo'"
     ]
    }
   ],
   "source": [
    "spam = {'bar':100}\n",
    "print(spam['foo'])"
   ]
  },
  {
   "cell_type": "markdown",
   "id": "5478d123",
   "metadata": {},
   "source": [
    "5. If a dictionary is stored in spam, what is the difference between the expressions 'cat' in spam and 'cat' in spam.keys()?\n",
    "* Answer : There will be no difference as 'cat' in spam searches for the key 'cat' in spam and 'cat' in spam.keys() searches for 'cat' in keys of spam."
   ]
  },
  {
   "cell_type": "code",
   "execution_count": 7,
   "id": "99e079d4",
   "metadata": {},
   "outputs": [
    {
     "name": "stdout",
     "output_type": "stream",
     "text": [
      "True\n",
      "True\n"
     ]
    }
   ],
   "source": [
    "spam = {'dog' : 'woof', 'cat':'meow'}\n",
    "print('cat' in spam)\n",
    "print('cat' in spam.keys())"
   ]
  },
  {
   "cell_type": "markdown",
   "id": "e17178b3",
   "metadata": {},
   "source": [
    "6. If a dictionary is stored in spam, what is the difference between the expressions 'cat' in spam and 'cat' in spam.values()?\n",
    "* Answer : 'cat' in spam checks whether there is a key 'cat' in spam and 'cat' in spam.values() searches for 'cat' in the values of the spam dictionary"
   ]
  },
  {
   "cell_type": "code",
   "execution_count": 8,
   "id": "7c5ce4f7",
   "metadata": {},
   "outputs": [
    {
     "name": "stdout",
     "output_type": "stream",
     "text": [
      "True\n",
      "False\n"
     ]
    }
   ],
   "source": [
    "spam = {'dog' : 'woof', 'cat':'meow'}\n",
    "print('cat' in spam)\n",
    "print('cat' in spam.values())"
   ]
  },
  {
   "cell_type": "markdown",
   "id": "c430b484",
   "metadata": {},
   "source": [
    "7. What is the shortcut for the following code?"
   ]
  },
  {
   "cell_type": "code",
   "execution_count": 9,
   "id": "b56cdd19",
   "metadata": {},
   "outputs": [],
   "source": [
    "if 'color' not in spam:\n",
    "    spam['color'] = 'black'"
   ]
  },
  {
   "cell_type": "code",
   "execution_count": 10,
   "id": "ad8dda26",
   "metadata": {},
   "outputs": [
    {
     "data": {
      "text/plain": [
       "'black'"
      ]
     },
     "execution_count": 10,
     "metadata": {},
     "output_type": "execute_result"
    }
   ],
   "source": [
    "spam.setdefault('color','black')"
   ]
  },
  {
   "cell_type": "code",
   "execution_count": 11,
   "id": "8c15cd9c",
   "metadata": {},
   "outputs": [
    {
     "data": {
      "text/plain": [
       "{'dog': 'woof', 'cat': 'meow', 'color': 'black'}"
      ]
     },
     "execution_count": 11,
     "metadata": {},
     "output_type": "execute_result"
    }
   ],
   "source": [
    "spam"
   ]
  },
  {
   "cell_type": "markdown",
   "id": "65e1c4e2",
   "metadata": {},
   "source": [
    "8. How do you 'pretty print' dictionary values using which modules and function?\n",
    "* Answer : We can import pretty print module and can use pprint method."
   ]
  },
  {
   "cell_type": "code",
   "execution_count": 15,
   "id": "20769987",
   "metadata": {},
   "outputs": [
    {
     "name": "stdout",
     "output_type": "stream",
     "text": [
      "{'cat': 'meow', 'color': 'black', 'dog': 'woof'}\n"
     ]
    }
   ],
   "source": [
    "import pprint\n",
    "\n",
    "pprint.pprint(spam)"
   ]
  }
 ],
 "metadata": {
  "kernelspec": {
   "display_name": "Python 3 (ipykernel)",
   "language": "python",
   "name": "python3"
  },
  "language_info": {
   "codemirror_mode": {
    "name": "ipython",
    "version": 3
   },
   "file_extension": ".py",
   "mimetype": "text/x-python",
   "name": "python",
   "nbconvert_exporter": "python",
   "pygments_lexer": "ipython3",
   "version": "3.11.5"
  }
 },
 "nbformat": 4,
 "nbformat_minor": 5
}
