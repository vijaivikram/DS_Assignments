{
 "cells": [
  {
   "cell_type": "markdown",
   "metadata": {},
   "source": [
    "2nd July OOPs Inheritance Assignment"
   ]
  },
  {
   "cell_type": "markdown",
   "metadata": {},
   "source": [
    "1. Explain what inheritance is in object-oriented programming and why it is used.\n",
    "\n",
    "* Answer: Inheritance is a mechanism in which one class acquires the property of another class. For example, let's say iNeuron created a LMS platform but now no matter which course you bring, you'll inherit the same structure of the LMS platform. So, here LMS platform/website structure is the parent class and all the courses are the child class. So, the child class will inherit the properties of the parent class."
   ]
  },
  {
   "cell_type": "markdown",
   "metadata": {},
   "source": [
    "2. Discuss the concept of single inheritance and multiple inheritance, highlighting their differences and advantages.\n",
    "\n",
    "* Answer:\n",
    "\n",
    "* Differences:\n",
    "\n",
    "* Single inheritance is a mechanism in which a derived class inherits from a single base class whereas Multiple inheritance is a mechanism in which a derived class inherits from multiple base classes.\n",
    "* Single inheritance is simpler to implement whereas Multiple inheritance is more complex to implement\n",
    "* Single inheritance is less flexible whereas Multiple inheritance is more flexible.\n",
    "* Single inheritance is less error-prone. whereas Multiple inheritance is more error-prone.\n",
    "\n",
    "* Advantages of Single Inheritance:\n",
    "* It is simpler to implement.\n",
    "* It is less error-prone.\n",
    "* It is less complex.\n",
    "\n",
    "* Advantages of Multiple Inheritance:\n",
    "* It is more flexible.\n",
    "* It can inherit the properties of multiple classes.\n",
    "* It can be used to model more complex relationships.\n",
    "\n"
   ]
  },
  {
   "cell_type": "code",
   "execution_count": 1,
   "metadata": {},
   "outputs": [],
   "source": [
    "#Example of Single Inheritance:\n",
    "class Parent:\n",
    "    def __init__(self, surname):\n",
    "        self.surname = surname\n",
    "\n",
    "    def print_surname(self):\n",
    "        print(self.surname)\n",
    "\n",
    "class Child(Parent):\n",
    "    pass\n",
    "\n",
    "#Example of Multiple Inheritance:\n",
    "class Father:\n",
    "    def __init__(self, surname):\n",
    "        self.surname = surname\n",
    "\n",
    "    def print_surname(self):\n",
    "        print(self.surname)\n",
    "\n",
    "class Mother:\n",
    "    def __init__(self, surname):\n",
    "        self.surname = surname\n",
    "\n",
    "    def print_surname(self):\n",
    "        print(self.surname)\n",
    "\n",
    "class Child(Father, Mother):\n",
    "    pass"
   ]
  },
  {
   "cell_type": "markdown",
   "metadata": {},
   "source": [
    "3. Explain the terms \"base class\" and \"derived class\" in the context of inheritance.\n",
    "\n",
    "* Answer: Base class is the parent class from which the child class inherits the properties. Derived class is the child class which inherits the properties of the parent class."
   ]
  },
  {
   "cell_type": "code",
   "execution_count": 2,
   "metadata": {},
   "outputs": [],
   "source": [
    "class Parent:\n",
    "    def __init__(self, surname):\n",
    "        self.surname = surname\n",
    "\n",
    "    def print_surname(self):\n",
    "        print(self.surname)\n",
    "\n",
    "class Child(Parent):\n",
    "    pass"
   ]
  },
  {
   "cell_type": "markdown",
   "metadata": {},
   "source": [
    "4. What is the significance of the \"protected\" access modifier in inheritance? How does it differ from \"private\" and \"public\" modifiers?\n",
    "\n",
    "* Answer: Protected access modifier is used to restrict the access of a class, method, or variable to its child class. It is denoted by a single underscore. It is similar to private access modifier but it allows the child class to access the properties of the parent class."
   ]
  },
  {
   "cell_type": "code",
   "execution_count": 3,
   "metadata": {},
   "outputs": [
    {
     "name": "stdout",
     "output_type": "stream",
     "text": [
      "Beethoven\n"
     ]
    }
   ],
   "source": [
    "class Parent:\n",
    "    def __init__(self, surname):\n",
    "        self._surname = surname\n",
    "\n",
    "    def print_surname(self):\n",
    "        print(self._surname)\n",
    "\n",
    "class Child(Parent):\n",
    "    pass\n",
    "\n",
    "c = Child(\"Beethoven\")\n",
    "c.print_surname()\n"
   ]
  },
  {
   "cell_type": "markdown",
   "metadata": {},
   "source": [
    "5. What is the purpose of the 'super' keyword in inheritance? Provide an example.\n",
    "\n",
    "* Answer: The 'super()' function is used to call the parent class constructor. It is used to call the constructor, methods, and properties of the parent class."
   ]
  },
  {
   "cell_type": "code",
   "execution_count": 4,
   "metadata": {},
   "outputs": [
    {
     "name": "stdout",
     "output_type": "stream",
     "text": [
      "Beethoven\n",
      "Alphonse\n"
     ]
    }
   ],
   "source": [
    "class Parent:\n",
    "    def __init__(self, surname):\n",
    "        self._surname = surname\n",
    "\n",
    "    def print_surname(self):\n",
    "        print(self._surname)\n",
    "\n",
    "class Child(Parent):\n",
    "    def __init__(self, surname, name):\n",
    "        self._name = name\n",
    "        super().__init__(surname)\n",
    "\n",
    "    def print_name(self):\n",
    "        print(self._name)\n",
    "\n",
    "c = Child(\"Beethoven\", \"Alphonse\")\n",
    "\n",
    "c.print_surname()\n",
    "c.print_name()"
   ]
  },
  {
   "cell_type": "markdown",
   "metadata": {},
   "source": [
    "6. Create a base class called \"Vehicle\" with attributes like \"make\", \"model\", and \"year\". Then, create a derived class called \"Car\" that inherits from \"Vehicle\" and adds an attribute called \"fuel_type\". Implement appropriate methods in both classes."
   ]
  },
  {
   "cell_type": "code",
   "execution_count": 5,
   "metadata": {},
   "outputs": [
    {
     "name": "stdout",
     "output_type": "stream",
     "text": [
      "Make: Skoda\n",
      "Model: Kodiaq\n",
      "Year: 2023\n",
      "Fuel: Petrol\n"
     ]
    }
   ],
   "source": [
    "class Vehicle:\n",
    "    def __init__(self, make, model, year):\n",
    "        self._make = make\n",
    "        self._model = model\n",
    "        self._year = year\n",
    "\n",
    "    def display_vehicle_info(self):\n",
    "        print(f\"Make: {self._make}\\nModel: {self._model}\\nYear: {self._year}\")\n",
    "\n",
    "    def start(self):\n",
    "        print(\"Starting the vehicle\")\n",
    "\n",
    "    def stop(self):\n",
    "        print(\"Stopping the vehicle\")\n",
    "\n",
    "class Car(Vehicle):\n",
    "    def __init__(self, make, model, year, fuel):\n",
    "        self._fuel = fuel\n",
    "        super().__init__(make, model, year)\n",
    "\n",
    "    def display_car_info(self):\n",
    "        self.display_vehicle_info()\n",
    "        print(f\"Fuel: {self._fuel}\")\n",
    "\n",
    "    def start_car(self):\n",
    "        self.start()\n",
    "\n",
    "    def stop_car(self):\n",
    "        self.stop()\n",
    "\n",
    "car = Car(\"Skoda\", \"Kodiaq\", 2023, \"Petrol\")\n",
    "car.display_car_info()"
   ]
  },
  {
   "cell_type": "code",
   "execution_count": 6,
   "metadata": {},
   "outputs": [
    {
     "name": "stdout",
     "output_type": "stream",
     "text": [
      "Starting the vehicle\n"
     ]
    }
   ],
   "source": [
    "car.start()"
   ]
  },
  {
   "cell_type": "code",
   "execution_count": 7,
   "metadata": {},
   "outputs": [
    {
     "name": "stdout",
     "output_type": "stream",
     "text": [
      "Stopping the vehicle\n"
     ]
    }
   ],
   "source": [
    "car.stop()"
   ]
  },
  {
   "cell_type": "markdown",
   "metadata": {},
   "source": [
    "7. Create a base class called \"Employee\" with attributes like \"name\" and \"salary.\"\n",
    "Derive two classes, \"Manager\" and \"Developer,\" from \"Employee.\" Add an additional attribute called \"department\" for the \"Manager\" class and \"programming_language\" for the \"Developer\" class."
   ]
  },
  {
   "cell_type": "code",
   "execution_count": 8,
   "metadata": {},
   "outputs": [
    {
     "name": "stdout",
     "output_type": "stream",
     "text": [
      "Name: Alphonse\n",
      "Salary: 45000\n",
      "Department: Sales\n"
     ]
    }
   ],
   "source": [
    "class Employee:\n",
    "    def __init__(self, name, salary):\n",
    "        self.name = name\n",
    "        self.salary = salary\n",
    "\n",
    "    def display_employee_info(self):\n",
    "        print(f\"Name: {self.name}\\nSalary: {self.salary}\")\n",
    "\n",
    "class Manager(Employee):\n",
    "    def __init__(self, name, salary, department):\n",
    "        self.department = department\n",
    "        super().__init__(name, salary)\n",
    "\n",
    "    def display_manager_info(self):\n",
    "        self.display_employee_info()\n",
    "        print(f\"Department: {self.department}\")\n",
    "\n",
    "class Developer(Employee):\n",
    "    def __init__(self, name, salary, programming_language):\n",
    "        self.programming_language = programming_language\n",
    "        super().__init__(name, salary)\n",
    "\n",
    "    def display_developer_info(self):\n",
    "        self.display_employee_info()\n",
    "        print(f\"Programming Language: {self.programming_language}\")\n",
    "\n",
    "manager = Manager(\"Alphonse\", 45000, \"Sales\")\n",
    "manager.display_manager_info()"
   ]
  },
  {
   "cell_type": "code",
   "execution_count": 9,
   "metadata": {},
   "outputs": [
    {
     "name": "stdout",
     "output_type": "stream",
     "text": [
      "Name: Beethoven\n",
      "Salary: 75000\n",
      "Programming Language: Java\n"
     ]
    }
   ],
   "source": [
    "developer = Developer(\"Beethoven\", 75000, \"Java\")\n",
    "developer.display_developer_info()"
   ]
  },
  {
   "cell_type": "markdown",
   "metadata": {},
   "source": [
    "8. Design a base class called \"Shape\" with attributes like \"colour\" and \"border_width.\"\n",
    "Create derived classes, \"Rectangle\" and \"Circle,\" that inherit from \"Shape\" and add\n",
    "specific attributes like \"length\" and \"width\" for the \"Rectangle\" class and \"radius\" for\n",
    "the \"Circle\" class."
   ]
  },
  {
   "cell_type": "code",
   "execution_count": 10,
   "metadata": {},
   "outputs": [],
   "source": [
    "class Shape:\n",
    "    def __init__(self, color, border_width):\n",
    "        self.color = color\n",
    "        self.border_width = border_width\n",
    "\n",
    "    def display_shape_info(self):\n",
    "        print(f\"Color: {self.color}\\nBorder Width: {self.border_width}\")\n",
    "\n",
    "class Rectangele(Shape):\n",
    "    def __init__(self, color, border_width, length, width):\n",
    "        self.length = length\n",
    "        self.width = width\n",
    "        super().__init__(color, border_width)\n",
    "\n",
    "    def display_rectangle(self):\n",
    "        print(f\"Lenght: {self.length}\\nWidth: {self.width}\")\n",
    "        self.display_shape_info()\n",
    "\n",
    "class Circle(Shape):\n",
    "    def __init__(self, color, border_width, radius):\n",
    "        self.radius = radius\n",
    "        super().__init__(color, border_width)\n",
    "\n",
    "    def display_circle(self):\n",
    "        print(f\"Radius: {self.radius}\")\n",
    "        self.display_shape_info()"
   ]
  },
  {
   "cell_type": "code",
   "execution_count": 11,
   "metadata": {},
   "outputs": [
    {
     "name": "stdout",
     "output_type": "stream",
     "text": [
      "Lenght: 10\n",
      "Width: 6\n",
      "Color: Orange\n",
      "Border Width: 5px\n"
     ]
    }
   ],
   "source": [
    "rectangle = Rectangele(\"Orange\", \"5px\", \"10\", \"6\")\n",
    "rectangle.display_rectangle()"
   ]
  },
  {
   "cell_type": "code",
   "execution_count": 12,
   "metadata": {},
   "outputs": [
    {
     "name": "stdout",
     "output_type": "stream",
     "text": [
      "Radius: 6\n",
      "Color: Blue\n",
      "Border Width: 2px\n"
     ]
    }
   ],
   "source": [
    "circle = Circle(\"Blue\", \"2px\", \"6\")\n",
    "circle.display_circle()"
   ]
  },
  {
   "cell_type": "markdown",
   "metadata": {},
   "source": [
    "9. Create a base class called \"Device\" with attributes like \"brand\" and \"model.\" Derive\n",
    "two classes, \"Phone\" and \"Tablet,\" from \"Device.\" Add specific attributes like\n",
    "\"screen_size\" for the \"Phone\" class and \"battery_capacity\" for the \"Tablet\" class."
   ]
  },
  {
   "cell_type": "code",
   "execution_count": 13,
   "metadata": {},
   "outputs": [],
   "source": [
    "class Device:\n",
    "    def __init__(self, brand, model):\n",
    "        self.brand = brand\n",
    "        self.model = model\n",
    "\n",
    "    def display_device_info(self):\n",
    "        print(f\"Brand: {self.brand}\\nModel: {self.model}\")\n",
    "\n",
    "class Phone(Device):\n",
    "    def __init__(self, brand, model, screen_size):\n",
    "        self.screen_size = screen_size\n",
    "        super().__init__(brand, model)\n",
    "\n",
    "    def display_phone_info(self):\n",
    "        self.display_device_info()\n",
    "        print(f\"Screen Size: {self.screen_size}\")\n",
    "\n",
    "class Tablet(Device):\n",
    "    def __init__(self, brand, model, battery_capacity):\n",
    "        self.battery_capacity = battery_capacity\n",
    "        super().__init__(brand, model)\n",
    "\n",
    "    def display_tablet_info(self):\n",
    "        self.display_device_info()\n",
    "        print(f\"Battery Capacity: {self.battery_capacity}\")"
   ]
  },
  {
   "cell_type": "code",
   "execution_count": 21,
   "metadata": {},
   "outputs": [
    {
     "name": "stdout",
     "output_type": "stream",
     "text": [
      "Brand: Samsung\n",
      "Model: S23 Ultra\n",
      "Screen Size: 6.5 inch\n"
     ]
    }
   ],
   "source": [
    "phone = Phone(\"Samsung\", 'S23 Ultra', \"6.5 inch\")\n",
    "phone.display_phone_info()"
   ]
  },
  {
   "cell_type": "code",
   "execution_count": 15,
   "metadata": {},
   "outputs": [
    {
     "name": "stdout",
     "output_type": "stream",
     "text": [
      "Brand: Apple\n",
      "Model: iPad Mini\n",
      "Battery Capacity: 7520 mAh\n"
     ]
    }
   ],
   "source": [
    "tablet = Tablet(\"Apple\", \"iPad Mini\", \"7520 mAh\")\n",
    "tablet.display_tablet_info()"
   ]
  },
  {
   "cell_type": "markdown",
   "metadata": {},
   "source": [
    "10. Create a base class called \"BankAccount\" with attributes like \"account_number\" and \"balance.\" Derive two classes, \"SavingsAccount\" and \"CheckingAccount,\" from \"BankAccount.\" Add specific methods like \"calculate_interest\" for the \"SavingsAccount\" class and \"deduct_fees\" for the \"CheckingAccount\" class."
   ]
  },
  {
   "cell_type": "code",
   "execution_count": 16,
   "metadata": {},
   "outputs": [],
   "source": [
    "class BankAccount:\n",
    "    def __init__(self, account_number, balance):\n",
    "        self.account_number = account_number\n",
    "        self.balance = balance\n",
    "\n",
    "    def display_account_info(self):\n",
    "        print(f\"Account Number: {self.account_number}\\nBalance: {self.balance}\")\n",
    "\n",
    "class SavingsAccount(BankAccount):\n",
    "    def __init__(self, account_number, balance, interest_rate):\n",
    "        self.interest_rate = interest_rate\n",
    "        super().__init__(account_number, balance)\n",
    "\n",
    "    def calculate_interest(self):\n",
    "        return self.balance * self.interest_rate\n",
    "    \n",
    "    def display_savings_account_info(self):\n",
    "        self.display_account_info()\n",
    "        print(f\"Interest Rate: {self.interest_rate}\")\n",
    "\n",
    "class CheckingAccount(BankAccount):\n",
    "    def __init__(self, account_number, balance, fee):\n",
    "        self.fee = fee\n",
    "        super().__init__(account_number, balance)\n",
    "\n",
    "    def deduct_fee(self):\n",
    "        self.balance -= self.fee\n",
    "\n",
    "    def display_checking_account_info(self):\n",
    "        self.display_account_info()\n",
    "        print(f\"Fee: {self.fee}\")"
   ]
  },
  {
   "cell_type": "code",
   "execution_count": 17,
   "metadata": {},
   "outputs": [
    {
     "name": "stdout",
     "output_type": "stream",
     "text": [
      "Account Number: 34645765776\n",
      "Balance: 250000\n",
      "Interest Rate: 0.07\n"
     ]
    }
   ],
   "source": [
    "savings_account = SavingsAccount(\"34645765776\", 250000, 0.07)\n",
    "savings_account.display_savings_account_info()"
   ]
  },
  {
   "cell_type": "code",
   "execution_count": 18,
   "metadata": {},
   "outputs": [
    {
     "data": {
      "text/plain": [
       "17500.0"
      ]
     },
     "execution_count": 18,
     "metadata": {},
     "output_type": "execute_result"
    }
   ],
   "source": [
    "savings_account.calculate_interest()"
   ]
  },
  {
   "cell_type": "code",
   "execution_count": 19,
   "metadata": {},
   "outputs": [
    {
     "name": "stdout",
     "output_type": "stream",
     "text": [
      "Account Number: 987654321\n",
      "Balance: 5000\n",
      "Fee: 100\n"
     ]
    }
   ],
   "source": [
    "checking_account = CheckingAccount(\"987654321\", 5000, 100)\n",
    "checking_account.display_checking_account_info()"
   ]
  },
  {
   "cell_type": "code",
   "execution_count": 20,
   "metadata": {},
   "outputs": [
    {
     "name": "stdout",
     "output_type": "stream",
     "text": [
      "Account Number: 987654321\n",
      "Balance: 4900\n",
      "Fee: 100\n"
     ]
    }
   ],
   "source": [
    "checking_account.deduct_fee()\n",
    "checking_account.display_checking_account_info()"
   ]
  }
 ],
 "metadata": {
  "kernelspec": {
   "display_name": "Python 3 (ipykernel)",
   "language": "python",
   "name": "python3"
  },
  "language_info": {
   "codemirror_mode": {
    "name": "ipython",
    "version": 3
   },
   "file_extension": ".py",
   "mimetype": "text/x-python",
   "name": "python",
   "nbconvert_exporter": "python",
   "pygments_lexer": "ipython3",
   "version": "3.11.5"
  }
 },
 "nbformat": 4,
 "nbformat_minor": 2
}
