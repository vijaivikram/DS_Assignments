{
 "cells": [
  {
   "cell_type": "markdown",
   "id": "ee04ef53",
   "metadata": {},
   "source": [
    " 17th June ’23 - Error Handling Assignment"
   ]
  },
  {
   "cell_type": "markdown",
   "id": "42a14256-91c8-446e-92a7-ab6bf11055d3",
   "metadata": {},
   "source": [
    "1.  What is the role of try and exception block?\n",
    "\n",
    "* Answer: The `try` block is used to execute the code that might raise an\n",
    "exception, means this is the actual code but can have any errors if\n",
    "there’s any mistake in the code. Whereas the `exception block` is used\n",
    "to handle the exception raised by the code in the `try` block.\n"
   ]
  },
  {
   "cell_type": "markdown",
   "id": "b6ce8cdf",
   "metadata": {},
   "source": [
    "2.  What is the syntax for a basic try-except block?\n",
    "\n"
   ]
  },
  {
   "cell_type": "code",
   "execution_count": null,
   "id": "90ddec86",
   "metadata": {},
   "outputs": [],
   "source": [
    "try:\n",
    "    # Code that might raise an exception\n",
    "except:\n",
    "    # Code to handle the exception"
   ]
  },
  {
   "cell_type": "markdown",
   "id": "70187d4c",
   "metadata": {},
   "source": [
    "3.  What happens if an exception occurs inside a try block and there is\n",
    "    no matching except block?\n",
    "\n",
    "* Answer: If an exception occurs inside a try block and there is no\n",
    "matching except block, then the program will terminate with an error.\n",
    "\n"
   ]
  },
  {
   "cell_type": "code",
   "execution_count": 1,
   "id": "ae828c6f",
   "metadata": {},
   "outputs": [
    {
     "name": "stdout",
     "output_type": "stream",
     "text": [
      "Error occurred\n"
     ]
    }
   ],
   "source": [
    "try:\n",
    "    print(1/0)\n",
    "except:\n",
    "    print(\"Error occurred\")"
   ]
  },
  {
   "cell_type": "markdown",
   "id": "6d73d243",
   "metadata": {},
   "source": [
    "4.  What is the difference between using a bare except block and\n",
    "    specifying a specific exception type?\n",
    "\n",
    "* Answer: The difference between using a bare except block and specifying\n",
    "a specific exception type is that the bare except block will handle all\n",
    "the exceptions raised by the code in the try block. Whereas the specific\n",
    "exception type will handle only the specified exception type."
   ]
  },
  {
   "cell_type": "markdown",
   "id": "35b659c7",
   "metadata": {},
   "source": [
    "5.  Can you have nested try-except blocks in Python? If yes, then give\n",
    "    an example.\n",
    "\n",
    "* Answer: Yes, we can have nested try-except blocks in Python."
   ]
  },
  {
   "cell_type": "code",
   "execution_count": 8,
   "id": "10eb4970",
   "metadata": {},
   "outputs": [
    {
     "name": "stdout",
     "output_type": "stream",
     "text": [
      "ZeroDivisionError occurred\n"
     ]
    }
   ],
   "source": [
    "try:\n",
    "    try:\n",
    "        print(1/0)\n",
    "    except ZeroDivisionError:\n",
    "        print(\"ZeroDivisionError occurred\")\n",
    "except:\n",
    "    print(\"Error occurred\")"
   ]
  },
  {
   "cell_type": "markdown",
   "id": "3f873ad0",
   "metadata": {},
   "source": [
    "6.  Can we use multiple exception blocks, if yes then give an example.\n",
    "\n",
    "* Answer: Yes, we can use multiple exception blocks."
   ]
  },
  {
   "cell_type": "code",
   "execution_count": 2,
   "id": "9b732ef7",
   "metadata": {},
   "outputs": [
    {
     "name": "stdout",
     "output_type": "stream",
     "text": [
      "ZeroDivisionError occurred\n"
     ]
    }
   ],
   "source": [
    "try:\n",
    "    print(1/0)\n",
    "except ZeroDivisionError:\n",
    "    print(\"ZeroDivisionError occurred\")\n",
    "except:\n",
    "    print(\"Error occurred\")"
   ]
  },
  {
   "cell_type": "markdown",
   "id": "f11a7093",
   "metadata": {},
   "source": [
    "\n",
    "7.  Write the reason due to which following errors are raised:\n",
    "    *   EOFError\n",
    "    *   FloatingPointError\n",
    "    *   IndexError\n",
    "    *   MemoryError\n",
    "    *   OverflowError\n",
    "    *   TabError\n",
    "    *   ValueError\n",
    "\n",
    "* Answer:\n",
    "\n",
    "*   EOFError: Raised when the input() function hits the end-of-file\n",
    "    condition. (End of file condition is when there is no more data to\n",
    "    be read from the input.)\n",
    "*   FloatingPointError: Raised when a floating point operation fails.\n",
    "*   IndexError: Raised when the index of a sequence is out of range.\n",
    "*   MemoryError: Raised when an operation runs out of memory.\n",
    "*   OverflowError: Raised when the result of an arithmetic operation is\n",
    "    too large to be represented.\n",
    "*   TabError: Raised when indentation consists of tabs or spaces.\n",
    "*   ValueError: Raised when a built-in operation or function receives an\n",
    "    argument that has the right type but an inappropriate value.\n"
   ]
  },
  {
   "cell_type": "markdown",
   "id": "572dd394",
   "metadata": {},
   "source": [
    "8.  Write code for the following given scenario and add try-exception\n",
    "    block to it.\n",
    "    *   Program to divide two numbers\n",
    "    *   Program to convert a string to an integer\n",
    "    *   Program to access an element in a list\n",
    "    *   Program to handle a specific exception\n",
    "    *   Program to handle any exception\n",
    "\n"
   ]
  },
  {
   "cell_type": "code",
   "execution_count": 3,
   "id": "a875ddb0",
   "metadata": {},
   "outputs": [
    {
     "name": "stdout",
     "output_type": "stream",
     "text": [
      "ZeroDivisionError occurred\n"
     ]
    }
   ],
   "source": [
    "#Program to divide two numbers\n",
    "try:\n",
    "    print(1/0)\n",
    "except ZeroDivisionError:\n",
    "    print(\"ZeroDivisionError occurred\")"
   ]
  },
  {
   "cell_type": "code",
   "execution_count": 4,
   "id": "bfa0e762",
   "metadata": {},
   "outputs": [
    {
     "name": "stdout",
     "output_type": "stream",
     "text": [
      "ValueError occurred\n"
     ]
    }
   ],
   "source": [
    "#Program to convert a string to an integer\n",
    "try:\n",
    "    print(int(\"abc\"))\n",
    "except ValueError:\n",
    "    print(\"ValueError occurred\")\n"
   ]
  },
  {
   "cell_type": "code",
   "execution_count": 5,
   "id": "d503bc2e",
   "metadata": {},
   "outputs": [
    {
     "name": "stdout",
     "output_type": "stream",
     "text": [
      "IndexError occurred\n"
     ]
    }
   ],
   "source": [
    "#Program to access an element in a list\n",
    "try:\n",
    "    print([1, 2, 3][3])\n",
    "except IndexError:\n",
    "    print(\"IndexError occurred\")\n"
   ]
  },
  {
   "cell_type": "code",
   "execution_count": 6,
   "id": "eb0a5639",
   "metadata": {},
   "outputs": [
    {
     "name": "stdout",
     "output_type": "stream",
     "text": [
      "ZeroDivisionError occurred\n"
     ]
    }
   ],
   "source": [
    "#Program to handle a specific exception\n",
    "try:\n",
    "    print(1/0)\n",
    "except ZeroDivisionError:\n",
    "    print(\"ZeroDivisionError occurred\")"
   ]
  },
  {
   "cell_type": "code",
   "execution_count": 7,
   "id": "c5e8f165",
   "metadata": {},
   "outputs": [
    {
     "name": "stdout",
     "output_type": "stream",
     "text": [
      "Error occurred\n"
     ]
    }
   ],
   "source": [
    "#Program to handle any exception\n",
    "try:\n",
    "    print(1/0)\n",
    "except:\n",
    "    print(\"Error occurred\")"
   ]
  },
  {
   "cell_type": "code",
   "execution_count": null,
   "id": "277bc24d",
   "metadata": {},
   "outputs": [],
   "source": []
  }
 ],
 "metadata": {
  "kernelspec": {
   "display_name": "Python 3 (ipykernel)",
   "language": "python",
   "name": "python3"
  },
  "language_info": {
   "codemirror_mode": {
    "name": "ipython",
    "version": 3
   },
   "file_extension": ".py",
   "mimetype": "text/x-python",
   "name": "python",
   "nbconvert_exporter": "python",
   "pygments_lexer": "ipython3",
   "version": "3.11.5"
  }
 },
 "nbformat": 4,
 "nbformat_minor": 5
}
