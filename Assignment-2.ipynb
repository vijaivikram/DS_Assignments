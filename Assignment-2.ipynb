{
 "cells": [
  {
   "cell_type": "markdown",
   "id": "49057810",
   "metadata": {},
   "source": [
    "Assignment - 2"
   ]
  },
  {
   "cell_type": "markdown",
   "id": "4fc5afdd",
   "metadata": {},
   "source": [
    "1. What are the two values of the boolean data types? how do you write them ?\n",
    "* Answer : True with a captial 'T' and False with capital 'F' are the two values of the boolean data types. "
   ]
  },
  {
   "cell_type": "code",
   "execution_count": 3,
   "id": "e4f48e86",
   "metadata": {},
   "outputs": [
    {
     "name": "stdout",
     "output_type": "stream",
     "text": [
      "<class 'bool'>\n",
      "<class 'bool'>\n"
     ]
    }
   ],
   "source": [
    "a=True\n",
    "b=False\n",
    "print(type(a))\n",
    "print(type(b))"
   ]
  },
  {
   "cell_type": "markdown",
   "id": "edb181c0",
   "metadata": {},
   "source": [
    "2. What are the three different types of Boolean operators?\n",
    "\n",
    "* Answer : 'or', 'and', 'not' are the three different types of boolean operators"
   ]
  },
  {
   "cell_type": "markdown",
   "id": "6b3bbcee",
   "metadata": {},
   "source": [
    "3. Make a list of each Boolean operator&#39;s truth tables (i.e. every possible combination of Boolean values for the operator and what it evaluate)?\n",
    "* Answer : \n",
    "* True and True is True\n",
    "* True and False is False\n",
    "* False and True is False\n",
    "* False and False is False\n",
    "* True or True is True\n",
    "* True or False is True\n",
    "* False or True is True\n",
    "* False or False is False\n",
    "* not True is False\n",
    "* not False is True"
   ]
  },
  {
   "cell_type": "markdown",
   "id": "fb49d25e",
   "metadata": {},
   "source": [
    "4. What are the values of the following expressions ?\n",
    "* (5 &gt; 4) and (3 == 5)  \n",
    "* not (5 &gt; 4)  \n",
    "* (5 &gt; 4) or (3 == 5)  \n",
    "* not ((5 &gt; 4) or (3 == 5))  \n",
    "* (True and True) and (True == False)  \n",
    "* (not False) or (not True)  \n"
   ]
  },
  {
   "cell_type": "code",
   "execution_count": 4,
   "id": "9c240a41",
   "metadata": {},
   "outputs": [
    {
     "name": "stdout",
     "output_type": "stream",
     "text": [
      "False\n",
      "False\n",
      "True\n",
      "False\n",
      "False\n",
      "True\n"
     ]
    }
   ],
   "source": [
    "print((5>4)and(3==5))\n",
    "print(not(5>4))\n",
    "print((5>4)or(3==5))\n",
    "print(not((5>4)or(3==5)))\n",
    "print((True and True)and(True==False))\n",
    "print((not False)or(not True))"
   ]
  },
  {
   "cell_type": "markdown",
   "id": "af7d93b1",
   "metadata": {},
   "source": [
    "5. What are the six comparison operators?\n",
    "* Answer : The six comparison operators are \n",
    "* '==' equal to\n",
    "* '!=' Not equal to\n",
    "* '>' Greater than\n",
    "* '<' Lesser than\n",
    "* '>=' Greater than or equal to \n",
    "* '<=' Lesser than or equal to"
   ]
  },
  {
   "cell_type": "markdown",
   "id": "9c1d7ab0",
   "metadata": {},
   "source": [
    "6. How do you tell the difference between the equal to and assignment operators?Describe a condition and when you would use one ?\n",
    "* Answer : '=' is the assignment operator which is used to store data in a variable whereas '==' is the equal to operator which is used to compare the value of two variables."
   ]
  },
  {
   "cell_type": "code",
   "execution_count": 5,
   "id": "695b3f18",
   "metadata": {},
   "outputs": [
    {
     "name": "stdout",
     "output_type": "stream",
     "text": [
      "hello\n"
     ]
    }
   ],
   "source": [
    "a = 'hello' #used as a assignment operator\n",
    "if a == 'hello': #used as a equal to operator\n",
    "    print(a)"
   ]
  },
  {
   "cell_type": "markdown",
   "id": "ea78260c",
   "metadata": {},
   "source": [
    "7. Identify the three blocks in this code:\n",
    "spam = 0  \n",
    "if spam == 10:  \n",
    "print('eggs')  \n",
    "if spam > 5:  \n",
    "print('bacon')  \n",
    "else:  \n",
    "print('ham')  \n",
    "print('spam')  \n",
    "print('spam')"
   ]
  },
  {
   "cell_type": "code",
   "execution_count": 6,
   "id": "754f10d0",
   "metadata": {},
   "outputs": [
    {
     "name": "stdout",
     "output_type": "stream",
     "text": [
      "ham\n",
      "spam\n",
      "spam\n"
     ]
    }
   ],
   "source": [
    "spam = 0\n",
    "if spam == 10: #1st block\n",
    "    print('eggs')\n",
    "if spam > 5: #2nd block\n",
    "    print('bacon')\n",
    "else: #3rd block\n",
    "    print('ham')\n",
    "print('spam')\n",
    "print('spam')"
   ]
  },
  {
   "cell_type": "markdown",
   "id": "431357d4",
   "metadata": {},
   "source": [
    "8. Write code that prints Hello if 1 is stored in spam, prints Howdy if 2 is stored in spam, and prints Greetings! if anything else is stored in spam.\n"
   ]
  },
  {
   "cell_type": "code",
   "execution_count": 7,
   "id": "3472a4ca",
   "metadata": {},
   "outputs": [
    {
     "name": "stdout",
     "output_type": "stream",
     "text": [
      "Hello\n",
      "Howdy\n",
      "Greetings!\n"
     ]
    }
   ],
   "source": [
    "def spam(spam):\n",
    "    if spam == 1:\n",
    "        print('Hello')\n",
    "    elif spam == 2:\n",
    "        print('Howdy')\n",
    "    else:\n",
    "        print('Greetings!')\n",
    "spam(1)\n",
    "spam(2)\n",
    "spam(0)"
   ]
  },
  {
   "cell_type": "markdown",
   "id": "7ab1781a",
   "metadata": {},
   "source": [
    "9.If your programme is stuck in an endless loop, what keys you’ll press?\n",
    "* Answer : If the programme is stuck in endless loop, we should press Crtl+c to stop."
   ]
  },
  {
   "cell_type": "markdown",
   "id": "89b18603",
   "metadata": {},
   "source": [
    "10. How can you tell the difference between break and continue?\n",
    "* Answer : 'break' will break the execution and exit from the loop whereas continue will move the execution with the next iteration."
   ]
  },
  {
   "cell_type": "markdown",
   "id": "31cb1863",
   "metadata": {},
   "source": [
    "11. In a for loop, what is the difference between range(10), range(0, 10), and range(0, 10, 1)?"
   ]
  },
  {
   "cell_type": "code",
   "execution_count": 14,
   "id": "267551f3",
   "metadata": {},
   "outputs": [
    {
     "name": "stdout",
     "output_type": "stream",
     "text": [
      "0 1 2 3 4 5 6 7 8 9 \n",
      "\n",
      "0 1 2 3 4 5 6 7 8 9 \n",
      "\n",
      "0 1 2 3 4 5 6 7 8 9 "
     ]
    }
   ],
   "source": [
    "for i in range(10):  # range is from 0  to 9 but 10 is excluded\n",
    "    print(i,end =' ')\n",
    "print('\\n')\n",
    "for i in range(0,10): # explicitly mentioned to start from 0 and end at 10 still 10 will be excluded\n",
    "    print(i, end=' ')\n",
    "print('\\n')\n",
    "for i in range(0,10,1): # explicitly mentioned to start from 0 and increase by 1 for each iteration upto 10. 10 will be excluded here also.\n",
    "    print(i, end=' ')"
   ]
  },
  {
   "cell_type": "markdown",
   "id": "0600d281",
   "metadata": {},
   "source": [
    "12. Write a short program that prints the numbers 1 to 10 using a for loop. Then write an equivalent program that prints the numbers 1 to 10 using a while loop ? "
   ]
  },
  {
   "cell_type": "code",
   "execution_count": 18,
   "id": "af2b2601",
   "metadata": {},
   "outputs": [
    {
     "name": "stdout",
     "output_type": "stream",
     "text": [
      "1 2 3 4 5 6 7 8 9 10 \n",
      "\n",
      "1 2 3 4 5 6 7 8 9 10 "
     ]
    }
   ],
   "source": [
    "for i in range(1,11):\n",
    "    print(i, end=' ')\n",
    "print('\\n')\n",
    "i = 1\n",
    "while i < 11:\n",
    "    print(i, end=' ')\n",
    "    i += 1"
   ]
  },
  {
   "cell_type": "markdown",
   "id": "26a89447",
   "metadata": {},
   "source": [
    "13. If you had a function named bacon() inside a module named spam, how would you call it after importing spam ?\n",
    "* Answer : After importing spam module, bacon() can be called by spam.bacon()"
   ]
  },
  {
   "cell_type": "code",
   "execution_count": null,
   "id": "12b3bbf9",
   "metadata": {},
   "outputs": [],
   "source": []
  },
  {
   "cell_type": "code",
   "execution_count": null,
   "id": "69f00bb3",
   "metadata": {},
   "outputs": [],
   "source": []
  },
  {
   "cell_type": "code",
   "execution_count": null,
   "id": "37323ef5",
   "metadata": {},
   "outputs": [],
   "source": []
  }
 ],
 "metadata": {
  "kernelspec": {
   "display_name": "Python 3 (ipykernel)",
   "language": "python",
   "name": "python3"
  },
  "language_info": {
   "codemirror_mode": {
    "name": "ipython",
    "version": 3
   },
   "file_extension": ".py",
   "mimetype": "text/x-python",
   "name": "python",
   "nbconvert_exporter": "python",
   "pygments_lexer": "ipython3",
   "version": "3.11.5"
  }
 },
 "nbformat": 4,
 "nbformat_minor": 5
}
